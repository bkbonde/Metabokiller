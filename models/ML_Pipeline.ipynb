{
  "cells": [
    {
      "cell_type": "markdown",
      "source": [
        "# Importing Libraries"
      ],
      "metadata": {
        "id": "nAY0TspmH_jF"
      },
      "id": "nAY0TspmH_jF"
    },
    {
      "cell_type": "code",
      "execution_count": null,
      "id": "cb6373dd",
      "metadata": {
        "id": "cb6373dd"
      },
      "outputs": [],
      "source": [
        "#import default and other essential libraries\n",
        "import os\n",
        "import numpy as np\n",
        "import pandas as pd\n",
        "import sklearn\n",
        "import joblib\n",
        "import pickle\n",
        "import csv\n",
        "import sys\n",
        "import random\n",
        "import seaborn as sns\n",
        "from functools import reduce\n",
        "import matplotlib.backends.backend_pdf\n",
        "import matplotlib.pyplot as plt\n",
        "import tensorflow as tf\n",
        "\n",
        "#Packages to split data and other preprocessing\n",
        "from sklearn.model_selection import train_test_split\n",
        "from sklearn import preprocessing\n",
        "from sklearn import metrics\n",
        "from sklearn.feature_selection import VarianceThreshold\n",
        "from sklearn.base import BaseEstimator,TransformerMixin\n",
        "from sklearn.decomposition import PCA \n",
        "from boruta import BorutaPy\n",
        "from imblearn.pipeline import Pipeline as sample_pipeline\n",
        "from sklearn.pipeline import Pipeline\n",
        "from sklearn.pipeline import make_pipeline\n",
        "from sklearn.feature_selection import SelectFromModel\n",
        "from imblearn.over_sampling import SMOTE\n",
        "\n",
        "#Import Classifiers\n",
        "from sklearn import svm\n",
        "import smote_variants as sv\n",
        "from sklearn.neural_network import MLPClassifier\n",
        "from sklearn.ensemble import RandomForestClassifier\n",
        "from sklearn.linear_model import LogisticRegression\n",
        "from sklearn.ensemble import VotingClassifier\n",
        "from sklearn.naive_bayes import GaussianNB\n",
        "from xgboost import XGBClassifier\n",
        "from sklearn.neighbors import KNeighborsClassifier\n",
        "\n",
        "## Package for calculating accuracy and analysis\n",
        "from sklearn.metrics import confusion_matrix\n",
        "from sklearn.model_selection import GridSearchCV\n",
        "from sklearn.model_selection import RandomizedSearchCV\n",
        "from sklearn.metrics import classification_report\n",
        "from sklearn.manifold import TSNE\n",
        "from sklearn.model_selection import LeaveOneOut \n",
        "from sklearn.model_selection import cross_val_score\n",
        "from sklearn.model_selection import cross_validate\n",
        "from sklearn.metrics import roc_curve, auc, accuracy_score, roc_auc_score, cohen_kappa_score, f1_score, precision_score, recall_score, matthews_corrcoef \n",
        "from sklearn.model_selection import StratifiedKFold\n",
        "from lime.lime_tabular import LimeTabularExplainer"
      ]
    },
    {
      "cell_type": "markdown",
      "id": "b8f4e6a8",
      "metadata": {
        "id": "b8f4e6a8"
      },
      "source": [
        "# Working Directory"
      ]
    },
    {
      "cell_type": "code",
      "execution_count": null,
      "id": "af7c3ad9",
      "metadata": {
        "id": "af7c3ad9"
      },
      "outputs": [],
      "source": [
        "# set working directory\n",
        "os.chdir('/home/vishakhag/Projects/Metabokiller_Revision/Sakshi_Electrophiles/')"
      ]
    },
    {
      "cell_type": "markdown",
      "id": "2e38e010",
      "metadata": {
        "id": "2e38e010"
      },
      "source": [
        "# Data Loading"
      ]
    },
    {
      "cell_type": "code",
      "execution_count": null,
      "id": "2bc0cf92",
      "metadata": {
        "id": "2bc0cf92"
      },
      "outputs": [],
      "source": [
        "#load preprocessed feature file here\n",
        "data = pd.read_csv(r'/home/vishakhag/Projects/Metabokiller_Revision/Sakshi_Electrophiles/PreProcessed/sign_electrophile_latest_preprocessed.csv') ### features in columns,molecules in rows\n",
        "data"
      ]
    },
    {
      "cell_type": "code",
      "execution_count": null,
      "id": "b63521a7",
      "metadata": {
        "id": "b63521a7"
      },
      "outputs": [],
      "source": [
        " # dropping ALL duplicate values, if any\n",
        "data.drop_duplicates(subset =\"smiles\", keep = 'first', inplace = True, ignore_index = True) #use inplace = False to view the edit\n",
        "data"
      ]
    },
    {
      "cell_type": "code",
      "execution_count": null,
      "id": "d8e99dfa",
      "metadata": {
        "id": "d8e99dfa"
      },
      "outputs": [],
      "source": [
        "#Drop smiles column from the data\n",
        "data=data.drop('smiles', axis=1)\n",
        "data"
      ]
    },
    {
      "cell_type": "code",
      "source": [
        "# look at class imbalance\n",
        "data['status'].value_counts()"
      ],
      "metadata": {
        "id": "j8JTAQ6eRn3O"
      },
      "id": "j8JTAQ6eRn3O",
      "execution_count": null,
      "outputs": []
    },
    {
      "cell_type": "markdown",
      "id": "35594318",
      "metadata": {
        "id": "35594318"
      },
      "source": [
        "# Train-Test Split"
      ]
    },
    {
      "cell_type": "code",
      "execution_count": null,
      "id": "2fb25556",
      "metadata": {
        "id": "2fb25556"
      },
      "outputs": [],
      "source": [
        "# Split Data\n",
        "X_train, X_test,y_train,y_test = train_test_split(data,data[\"status\"] ,test_size=0.25, random_state=1)"
      ]
    },
    {
      "cell_type": "code",
      "execution_count": null,
      "id": "47bdeaa6",
      "metadata": {
        "id": "47bdeaa6"
      },
      "outputs": [],
      "source": [
        "train_df_new = X_train.drop('status', axis=1)\n",
        "valid_df_new = X_test.drop('status', axis=1)"
      ]
    },
    {
      "cell_type": "markdown",
      "id": "6be52c6c",
      "metadata": {
        "id": "6be52c6c"
      },
      "source": [
        "# tsne Plot"
      ]
    },
    {
      "cell_type": "code",
      "execution_count": null,
      "id": "b7af0d91",
      "metadata": {
        "id": "b7af0d91"
      },
      "outputs": [],
      "source": [
        "def TSNE_plot(data,data_labels):\n",
        "        tsne = TSNE(n_components=2, random_state=50)\n",
        "        transformed_data = tsne.fit_transform(data)\n",
        "        k = np.array(transformed_data)\n",
        "        Group=[\"Class 0\",\"Class 1\"]\n",
        "        plt.scatter(k[:, 0],k[:, 1], c=data_labels)\n",
        "        #plt.legend(loc=\"lower right\")\n",
        "        plt.show()"
      ]
    },
    {
      "cell_type": "code",
      "execution_count": null,
      "id": "5158be55",
      "metadata": {
        "id": "5158be55"
      },
      "outputs": [],
      "source": [
        "TSNE_plot(train_df_new,y_train)"
      ]
    },
    {
      "cell_type": "code",
      "execution_count": null,
      "id": "8ed2f715",
      "metadata": {
        "id": "8ed2f715"
      },
      "outputs": [],
      "source": [
        "y_train.value_counts()"
      ]
    },
    {
      "cell_type": "markdown",
      "id": "c813a6e8",
      "metadata": {
        "id": "c813a6e8"
      },
      "source": [
        "# Boruta"
      ]
    },
    {
      "cell_type": "code",
      "execution_count": null,
      "id": "7650d5e6",
      "metadata": {
        "id": "7650d5e6"
      },
      "outputs": [],
      "source": [
        "#### making files for boruta\n",
        "features = [f for f in train_df_new.columns if f not in ['status']]\n",
        "X_train_boruta = train_df_new[features].values\n",
        "Y_train_boruta = y_train.values.ravel()\n",
        "X_test_boruta = valid_df_new[features].values\n",
        "Y_test_boruta = y_test.values.ravel()"
      ]
    },
    {
      "cell_type": "code",
      "execution_count": null,
      "id": "6b4230b6",
      "metadata": {
        "id": "6b4230b6"
      },
      "outputs": [],
      "source": [
        "X_train_boruta"
      ]
    },
    {
      "cell_type": "code",
      "execution_count": null,
      "id": "1d13895b",
      "metadata": {
        "id": "1d13895b"
      },
      "outputs": [],
      "source": [
        "### implementing boruta\n",
        "# define random forest classifier, with utilising all cores and\n",
        "# sampling in proportion to y labels\n",
        "rf = RandomForestClassifier(n_jobs=-1, class_weight='balanced', max_depth=5)\n",
        "\n",
        "# define Boruta feature selection method\n",
        "feat_selector = BorutaPy(rf, n_estimators='auto', verbose=2, random_state=1)\n",
        "\n",
        "# find all relevant features - 5 features should be selected\n",
        "feat_selector.fit(X_train_boruta, Y_train_boruta)\n",
        "\n",
        "# check selected features - first 5 features are selected\n",
        "feat_selector.support_\n",
        "\n",
        "# check ranking of features\n",
        "feat_selector.ranking_\n",
        "\n",
        "# call transform() on X to filter it down to selected features\n",
        "X_train_filtered = feat_selector.transform(X_train_boruta)\n",
        "X_test_filtered = feat_selector.transform(X_test_boruta)"
      ]
    },
    {
      "cell_type": "code",
      "execution_count": null,
      "id": "775ca464",
      "metadata": {
        "id": "775ca464"
      },
      "outputs": [],
      "source": [
        "### name of the features selected####\n",
        "final_features = list()\n",
        "indexes = np.where(feat_selector.support_ == True)\n",
        "for x in np.nditer(indexes):\n",
        "    final_features.append(features[x])\n",
        "print(final_features)"
      ]
    },
    {
      "cell_type": "code",
      "execution_count": null,
      "id": "3419b8a1",
      "metadata": {
        "id": "3419b8a1"
      },
      "outputs": [],
      "source": [
        "len(final_features)"
      ]
    },
    {
      "cell_type": "code",
      "execution_count": null,
      "id": "e4538c80",
      "metadata": {
        "id": "e4538c80"
      },
      "outputs": [],
      "source": [
        "# Use selected features in the training-testing data\n",
        "X_train_filtered=pd.DataFrame(X_train_filtered,columns=final_features)\n",
        "X_test_filtered=pd.DataFrame(X_test_filtered,columns=final_features)"
      ]
    },
    {
      "cell_type": "code",
      "execution_count": null,
      "id": "7316ab5f",
      "metadata": {
        "id": "7316ab5f"
      },
      "outputs": [],
      "source": [
        "TSNE_plot(X_train_filtered,Y_train_boruta)"
      ]
    },
    {
      "cell_type": "code",
      "execution_count": null,
      "id": "d9404ce6",
      "metadata": {
        "id": "d9404ce6"
      },
      "outputs": [],
      "source": [
        "X_train_filtered"
      ]
    },
    {
      "cell_type": "code",
      "execution_count": null,
      "id": "9fd16a16",
      "metadata": {
        "id": "9fd16a16"
      },
      "outputs": [],
      "source": [
        "Y_train_boruta = pd.Series(Y_train_boruta)"
      ]
    },
    {
      "cell_type": "code",
      "execution_count": null,
      "id": "18686acb",
      "metadata": {
        "id": "18686acb"
      },
      "outputs": [],
      "source": [
        "Y_train_boruta"
      ]
    },
    {
      "cell_type": "code",
      "execution_count": null,
      "id": "6c337383",
      "metadata": {
        "id": "6c337383"
      },
      "outputs": [],
      "source": [
        "#save final feature names \n",
        "pd.DataFrame(final_features).to_csv('Predictions/final_features_boruta.csv',index=False)"
      ]
    },
    {
      "cell_type": "markdown",
      "id": "5b4e8490",
      "metadata": {
        "id": "5b4e8490"
      },
      "source": [
        "# Upsampling "
      ]
    },
    {
      "cell_type": "code",
      "execution_count": null,
      "id": "6449e6db",
      "metadata": {
        "id": "6449e6db"
      },
      "outputs": [],
      "source": [
        "def Smote(traindata,trainlabel,prop):\n",
        "        oversampler= sv.MSMOTE(proportion=prop,random_state=50)\n",
        "        X_samp, y_samp= oversampler.sample(traindata.values,trainlabel.values)     \n",
        "        TSNE_plot(X_samp, y_samp)\n",
        "        X_samp= pd.DataFrame(X_samp)\n",
        "        y_samp=pd.DataFrame(y_samp)\n",
        "        X_samp.columns =list(traindata.columns.values)\n",
        "        return X_samp,y_samp\n",
        "def TSNE_plot(data,data_labels):\n",
        "        tsne = TSNE(n_components=2, random_state=50)\n",
        "        transformed_data = tsne.fit_transform(data)\n",
        "        k = np.array(transformed_data)\n",
        "        Group=[\"Class 0\",\"Class 1\"]\n",
        "        plt.scatter(k[:, 0],k[:, 1], c=data_labels)\n",
        "        plt.legend(loc=\"lower right\")\n",
        "        plt.show()"
      ]
    },
    {
      "cell_type": "code",
      "execution_count": null,
      "id": "7d7249c1",
      "metadata": {
        "id": "7d7249c1"
      },
      "outputs": [],
      "source": [
        "X_train_filtered,Y_train_boruta=Smote(X_train_filtered,Y_train_boruta,0.5)"
      ]
    },
    {
      "cell_type": "code",
      "execution_count": null,
      "id": "71111371",
      "metadata": {
        "id": "71111371"
      },
      "outputs": [],
      "source": [
        "Y_train_boruta.value_counts()"
      ]
    },
    {
      "cell_type": "markdown",
      "source": [
        "# Down Sampling (For genomic instability)"
      ],
      "metadata": {
        "id": "t_tsSVtVSPvd"
      },
      "id": "t_tsSVtVSPvd"
    },
    {
      "cell_type": "code",
      "source": [
        "from imblearn.under_sampling import RandomUnderSampler\n",
        "def Smote(traindata,trainlabel):\n",
        "        # define undersample strategy\n",
        "        undersample = RandomUnderSampler(sampling_strategy='majority')\n",
        "        # fit and apply the transform\n",
        "        X_samp, y_samp = undersample.fit_resample(traindata.values,trainlabel.values)        \n",
        "        TSNE_plot(X_samp, y_samp)\n",
        "        X_samp= pd.DataFrame(X_samp)\n",
        "        y_samp=pd.DataFrame(y_samp)\n",
        "        X_samp.columns =list(traindata.columns.values)\n",
        "        return X_samp,y_samp\n",
        "def TSNE_plot(data,data_labels):\n",
        "        tsne = TSNE(n_components=2, random_state=50)\n",
        "        transformed_data = tsne.fit_transform(data)\n",
        "        k = np.array(transformed_data)\n",
        "        Group=[\"Class 0\",\"Class 1\"]\n",
        "        plt.scatter(k[:, 0],k[:, 1], c=data_labels)\n",
        "        plt.legend(loc=\"lower right\")\n",
        "        plt.show()"
      ],
      "metadata": {
        "id": "OFiR9dOlSUhy"
      },
      "id": "OFiR9dOlSUhy",
      "execution_count": null,
      "outputs": []
    },
    {
      "cell_type": "code",
      "source": [
        "X_train_filtered,Y_train_boruta=Smote(X_train_filtered,Y_train_boruta)"
      ],
      "metadata": {
        "id": "73JOX9I5Srd_"
      },
      "id": "73JOX9I5Srd_",
      "execution_count": null,
      "outputs": []
    },
    {
      "cell_type": "code",
      "source": [
        "Y_train_boruta.value_counts()"
      ],
      "metadata": {
        "id": "yYI02xzfSwch"
      },
      "id": "yYI02xzfSwch",
      "execution_count": null,
      "outputs": []
    },
    {
      "cell_type": "markdown",
      "source": [
        "# **Model Training and Testing**\n",
        "\n",
        "---\n",
        "\n"
      ],
      "metadata": {
        "id": "9tkIZaybS7nb"
      },
      "id": "9tkIZaybS7nb"
    },
    {
      "cell_type": "markdown",
      "id": "f5972e81",
      "metadata": {
        "id": "f5972e81"
      },
      "source": [
        "## Random Forest"
      ]
    },
    {
      "cell_type": "code",
      "execution_count": null,
      "id": "5eb4b11f",
      "metadata": {
        "id": "5eb4b11f"
      },
      "outputs": [],
      "source": [
        "########## grid sreach method Random Forest\n",
        "def RandomForest_GridSearch(self):\n",
        "        n_estimators = [int(x) for x in np.linspace(start = 2, stop = 100, num = 10)]\n",
        "        max_features = ['auto', 'sqrt']\n",
        "        max_depth = [int(x) for x in np.linspace(10, 110, num = 11)]\n",
        "        max_depth.append(None)\n",
        "        min_samples_split = [2, 5, 10]\n",
        "        min_samples_leaf = [1, 2, 4]\n",
        "        bootstrap = [True, False]\n",
        "        random_grid = {'n_estimators': n_estimators,\n",
        "                   'max_features': max_features,\n",
        "                   'max_depth': max_depth,\n",
        "                   'min_samples_split': min_samples_split,\n",
        "                   'min_samples_leaf': min_samples_leaf,\n",
        "                   'bootstrap': bootstrap}\n",
        "        rf = RandomForestClassifier()\n",
        "        rf_random = RandomizedSearchCV(estimator = rf, param_distributions = random_grid, n_iter = 100, cv = 5, verbose=2, random_state=50, n_jobs = -1)\n",
        "        return rf_random\n",
        "z_rf=RandomForest_GridSearch(RandomForest_GridSearch)\n",
        "z_rf.fit(X_train_filtered,Y_train_boruta)\n",
        "z_rf.best_params_  "
      ]
    },
    {
      "cell_type": "code",
      "execution_count": null,
      "id": "5f944053",
      "metadata": {
        "id": "5f944053"
      },
      "outputs": [],
      "source": [
        "model_rf = RandomForestClassifier(bootstrap= z_rf.best_params_['bootstrap'],\n",
        " max_depth= z_rf.best_params_['max_depth'],\n",
        " max_features= z_rf.best_params_['max_features'],\n",
        " min_samples_leaf= z_rf.best_params_['min_samples_leaf'],\n",
        " min_samples_split= z_rf.best_params_['min_samples_split'],\n",
        " n_estimators =z_rf.best_params_['n_estimators'])\n",
        "model_rf.fit(X_train_filtered,Y_train_boruta)"
      ]
    },
    {
      "cell_type": "code",
      "execution_count": null,
      "id": "106bfc71",
      "metadata": {
        "id": "106bfc71"
      },
      "outputs": [],
      "source": [
        "predict_test_label_rf = model_rf.predict(X_test_filtered)#test\n",
        "predict_train_label_rf = model_rf.predict(X_train_filtered)\n",
        "preds_rf=model_rf.predict_proba(X_test_filtered)"
      ]
    },
    {
      "cell_type": "code",
      "execution_count": null,
      "id": "b35128a7",
      "metadata": {
        "id": "b35128a7"
      },
      "outputs": [],
      "source": [
        "preds_rf_train=model_rf.predict_proba(X_train_filtered)"
      ]
    },
    {
      "cell_type": "code",
      "execution_count": null,
      "id": "3a080985",
      "metadata": {
        "id": "3a080985"
      },
      "outputs": [],
      "source": [
        "pd.DataFrame(preds_rf_train).to_csv('Predictions/RF/train_preds_rf.csv')"
      ]
    },
    {
      "cell_type": "code",
      "execution_count": null,
      "id": "dc5be19f",
      "metadata": {
        "id": "dc5be19f"
      },
      "outputs": [],
      "source": [
        "pd.DataFrame(predict_test_label_rf).to_csv('Predictions/RF/predict_test_label_rf.csv')\n",
        "pd.DataFrame(predict_train_label_rf).to_csv('Predictions/RF/predict_train_label_rf.csv')\n",
        "pd.DataFrame(preds_rf).to_csv('Predictions/RF/preds_rf.csv')"
      ]
    },
    {
      "cell_type": "code",
      "execution_count": null,
      "id": "8196397e",
      "metadata": {
        "id": "8196397e"
      },
      "outputs": [],
      "source": [
        "pd.DataFrame(Y_test_boruta).to_csv('Predictions/Y_test_boruta.csv')"
      ]
    },
    {
      "cell_type": "code",
      "execution_count": null,
      "id": "a20a48da",
      "metadata": {
        "id": "a20a48da"
      },
      "outputs": [],
      "source": [
        "pd.DataFrame(Y_train_boruta).to_csv('Predictions/Y_train_boruta.csv')"
      ]
    },
    {
      "cell_type": "markdown",
      "id": "79ae0495",
      "metadata": {
        "id": "79ae0495"
      },
      "source": [
        "Testing Reports"
      ]
    },
    {
      "cell_type": "code",
      "execution_count": null,
      "id": "500bb2a7",
      "metadata": {
        "id": "500bb2a7"
      },
      "outputs": [],
      "source": [
        "print(\"Training Accuracy :\",metrics.accuracy_score(Y_train_boruta, predict_train_label_rf))\n",
        "print(\"Testing Accuracy:\",metrics.accuracy_score(Y_test_boruta, predict_test_label_rf))\n",
        "print(\"MCC Score:\",matthews_corrcoef(Y_test_boruta, predict_test_label_rf))\n",
        "print(\"F1 Score:\",f1_score(Y_test_boruta, predict_test_label_rf, average='macro'))\n",
        "fpr_rf, tpr_rf, _ = roc_curve(Y_test_boruta,preds_rf[:, 1])\n",
        "roc_auc_rf = auc(fpr_rf, tpr_rf)\n",
        "print(\"AUC VALUE:\",roc_auc_rf)\n",
        "kappa_rf=sklearn.metrics.cohen_kappa_score(Y_test_boruta,predict_test_label_rf)\n",
        "print(\"kappa Score:\",kappa_rf)"
      ]
    },
    {
      "cell_type": "code",
      "execution_count": null,
      "id": "c8f39363",
      "metadata": {
        "id": "c8f39363"
      },
      "outputs": [],
      "source": [
        "print(classification_report(Y_test_boruta, predict_test_label_rf))"
      ]
    },
    {
      "cell_type": "markdown",
      "id": "3fb40042",
      "metadata": {
        "id": "3fb40042"
      },
      "source": [
        "## MLP"
      ]
    },
    {
      "cell_type": "code",
      "execution_count": null,
      "id": "bb7eeeac",
      "metadata": {
        "id": "bb7eeeac"
      },
      "outputs": [],
      "source": [
        "########## grid sreach method MLP\n",
        "def MLP_classifier_Gridsearch(self):\n",
        "        parameter_space = {'hidden_layer_sizes': [(5,5,5),(20,30,50),(50,50,50), (50,100,50), (100,),(100,100,100),(5,2)],'activation': ['tanh', 'relu'],\n",
        "        'solver': ['sgd', 'adam'],\n",
        "        'alpha': [0.0001, 0.05,0.001,0.01],\n",
        "        'learning_rate': ['constant','adaptive']}\n",
        "        mlp = MLPClassifier(max_iter=1000,random_state=50)\n",
        "        clf = GridSearchCV(mlp, parameter_space, n_jobs=-1, cv=5,scoring='f1',verbose=2)\n",
        "        return clf\n",
        "\n",
        "z_mlp=MLP_classifier_Gridsearch(X_train_filtered)\n",
        "z_mlp.fit(X_train_filtered,Y_train_boruta)\n",
        "z_mlp.best_params_ "
      ]
    },
    {
      "cell_type": "code",
      "execution_count": null,
      "id": "bf6e2471",
      "metadata": {
        "id": "bf6e2471"
      },
      "outputs": [],
      "source": [
        "model_mlp = MLPClassifier(activation=z_mlp.best_params_['activation'],\n",
        " alpha= z_mlp.best_params_['alpha'],\n",
        " hidden_layer_sizes= z_mlp.best_params_['hidden_layer_sizes'],\n",
        " learning_rate= z_mlp.best_params_['learning_rate'],\n",
        " solver=z_mlp.best_params_['solver'])\n",
        "model_mlp.fit(X_train_filtered,Y_train_boruta)"
      ]
    },
    {
      "cell_type": "code",
      "execution_count": null,
      "id": "e1948aae",
      "metadata": {
        "id": "e1948aae"
      },
      "outputs": [],
      "source": [
        "predict_test_label_mlp = model_mlp.predict(X_test_filtered)#test\n",
        "predict_train_label_mlp = model_mlp.predict(X_train_filtered)\n",
        "preds_mlp=model_mlp.predict_proba(X_test_filtered)"
      ]
    },
    {
      "cell_type": "code",
      "execution_count": null,
      "id": "87624cd0",
      "metadata": {
        "id": "87624cd0"
      },
      "outputs": [],
      "source": [
        "train_preds_mlp=model_mlp.predict_proba(X_train_filtered)\n",
        "pd.DataFrame(train_preds_mlp).to_csv('Predictions/MLP/train_preds_mlp.csv')"
      ]
    },
    {
      "cell_type": "code",
      "execution_count": null,
      "id": "fc27b03d",
      "metadata": {
        "id": "fc27b03d"
      },
      "outputs": [],
      "source": [
        "pd.DataFrame(predict_test_label_mlp).to_csv('Predictions/MLP/predict_test_label_mlp.csv')\n",
        "pd.DataFrame(predict_train_label_mlp).to_csv('Predictions/MLP/predict_train_label_mlp.csv')\n",
        "pd.DataFrame(preds_mlp).to_csv('Predictions/MLP/preds_mlp.csv')"
      ]
    },
    {
      "cell_type": "markdown",
      "id": "348f3b7e",
      "metadata": {
        "id": "348f3b7e"
      },
      "source": [
        "Testing Reports"
      ]
    },
    {
      "cell_type": "code",
      "execution_count": null,
      "id": "65aeb803",
      "metadata": {
        "id": "65aeb803"
      },
      "outputs": [],
      "source": [
        "print(\"Training Accuracy :\",metrics.accuracy_score(Y_train_boruta, predict_train_label_mlp))\n",
        "print(\"Testing Accuracy:\",metrics.accuracy_score(Y_test_boruta, predict_test_label_mlp))\n",
        "print(\"MCC Score:\",matthews_corrcoef(Y_test_boruta, predict_test_label_mlp))\n",
        "print(\"F1 Score:\",f1_score(Y_test_boruta, predict_test_label_mlp, average='macro'))\n",
        "fpr_rf, tpr_rf, _ = roc_curve(Y_test_boruta,preds_mlp[:, 1])\n",
        "roc_auc_rf = auc(fpr_rf, tpr_rf)\n",
        "print(\"AUC VALUE:\",roc_auc_rf)\n",
        "kappa_rf=sklearn.metrics.cohen_kappa_score(Y_test_boruta,predict_test_label_mlp)\n",
        "print(\"kappa Score:\",kappa_rf)"
      ]
    },
    {
      "cell_type": "code",
      "execution_count": null,
      "id": "9c83e9a5",
      "metadata": {
        "id": "9c83e9a5"
      },
      "outputs": [],
      "source": [
        "print(classification_report(Y_test_boruta, predict_test_label_mlp))"
      ]
    },
    {
      "cell_type": "markdown",
      "id": "b54b3440",
      "metadata": {
        "id": "b54b3440"
      },
      "source": [
        "## SVM "
      ]
    },
    {
      "cell_type": "code",
      "execution_count": null,
      "id": "dc33822e",
      "metadata": {
        "id": "dc33822e"
      },
      "outputs": [],
      "source": [
        "import scipy\n",
        "from sklearn.svm import SVC\n",
        "# def SVM_classifier_RandomizedSearch(self):\n",
        "#         parameter_space = {'kernel':('linear', 'rbf'), \"C\": scipy.stats.expon(scale=.01), \n",
        "#                            \"gamma\": scipy.stats.expon(scale=.01)}\n",
        "#         svc_rand = SVC(probability=True)\n",
        "#         svc_rs = RandomizedSearchCV(svc_rand, parameter_space, n_iter = 100, n_jobs = -1, cv = 3, random_state = 2017)\n",
        "#         return svc_rs\n",
        "\n",
        "# z_svm=SVM_classifier_RandomizedSearch(X_train_filtered)\n",
        "# z_svm.fit(X_train_filtered,Y_train_boruta)\n",
        "# z_svm.best_params_ "
      ]
    },
    {
      "cell_type": "code",
      "execution_count": null,
      "id": "2afdd807",
      "metadata": {
        "id": "2afdd807"
      },
      "outputs": [],
      "source": [
        "# svm_model = SVC(kernel = z_svm.best_params_['kernel'], C = z_svm.best_params_['C'], gamma = z_svm.best_params_['gamma'],probability=True).fit(X_train_filtered,Y_train_boruta)"
      ]
    },
    {
      "cell_type": "code",
      "execution_count": null,
      "id": "534773fd",
      "metadata": {
        "id": "534773fd"
      },
      "outputs": [],
      "source": [
        "svm_model = SVC(probability=True).fit(X_train_filtered,Y_train_boruta)"
      ]
    },
    {
      "cell_type": "code",
      "execution_count": null,
      "id": "13978a8f",
      "metadata": {
        "id": "13978a8f"
      },
      "outputs": [],
      "source": [
        "predict_test_label_svm = svm_model.predict(X_test_filtered)#test\n",
        "predict_train_label_svm = svm_model.predict(X_train_filtered)\n",
        "preds_svm=svm_model.predict_proba(X_test_filtered)"
      ]
    },
    {
      "cell_type": "code",
      "execution_count": null,
      "id": "f06ec7a0",
      "metadata": {
        "id": "f06ec7a0"
      },
      "outputs": [],
      "source": [
        "train_preds_svm=svm_model.predict_proba(X_train_filtered)\n",
        "pd.DataFrame(train_preds_svm).to_csv('Predictions/SVM/train_preds_svm.csv')"
      ]
    },
    {
      "cell_type": "code",
      "execution_count": null,
      "id": "9d3e27df",
      "metadata": {
        "id": "9d3e27df"
      },
      "outputs": [],
      "source": [
        "pd.DataFrame(predict_test_label_svm).to_csv('Predictions/SVM/predict_test_label_svm.csv')\n",
        "pd.DataFrame(predict_train_label_svm).to_csv('Predictions/SVM/predict_train_label_svm.csv')\n",
        "pd.DataFrame(preds_svm).to_csv('Predictions/SVM/preds_svm.csv')"
      ]
    },
    {
      "cell_type": "markdown",
      "id": "7043242d",
      "metadata": {
        "id": "7043242d"
      },
      "source": [
        "Testing Reports"
      ]
    },
    {
      "cell_type": "code",
      "execution_count": null,
      "id": "36cdb9fc",
      "metadata": {
        "id": "36cdb9fc"
      },
      "outputs": [],
      "source": [
        "print(\"Training Accuracy :\",metrics.accuracy_score(Y_train_boruta, predict_train_label_svm))\n",
        "print(\"Testing Accuracy:\",metrics.accuracy_score(Y_test_boruta, predict_test_label_svm))\n",
        "print(\"MCC Score:\",matthews_corrcoef(Y_test_boruta, predict_test_label_svm))\n",
        "print(\"F1 Score:\",f1_score(Y_test_boruta, predict_test_label_svm, average='macro'))\n",
        "fpr_rf, tpr_rf, _ = roc_curve(Y_test_boruta,preds_svm[:, 1])\n",
        "roc_auc_rf = auc(fpr_rf, tpr_rf)\n",
        "print(\"AUC VALUE:\",roc_auc_rf)\n",
        "kappa_rf=sklearn.metrics.cohen_kappa_score(Y_test_boruta,predict_test_label_svm)\n",
        "print(\"kappa Score:\",kappa_rf)"
      ]
    },
    {
      "cell_type": "code",
      "execution_count": null,
      "id": "5324b468",
      "metadata": {
        "id": "5324b468"
      },
      "outputs": [],
      "source": [
        "print(classification_report(Y_test_boruta, predict_test_label_svm))"
      ]
    },
    {
      "cell_type": "markdown",
      "id": "4ed7d2ff",
      "metadata": {
        "id": "4ed7d2ff"
      },
      "source": [
        "## XG Boost"
      ]
    },
    {
      "cell_type": "code",
      "execution_count": null,
      "id": "eb9a6b8c",
      "metadata": {
        "id": "eb9a6b8c"
      },
      "outputs": [],
      "source": [
        "params = {\n",
        "        'min_child_weight': [1, 5, 10],\n",
        "        'gamma': [0.5, 1, 1.5, 2, 5],\n",
        "        'subsample': [0.6, 0.8, 1.0],\n",
        "        'colsample_bytree': [0.6, 0.8, 1.0],\n",
        "        'max_depth': [3, 4, 5]\n",
        "        }"
      ]
    },
    {
      "cell_type": "code",
      "execution_count": null,
      "id": "f6dacbdb",
      "metadata": {
        "id": "f6dacbdb"
      },
      "outputs": [],
      "source": [
        "xgb = XGBClassifier(learning_rate=0.02, n_estimators=600, objective='binary:logistic',\n",
        "                    silent=True, nthread=1)"
      ]
    },
    {
      "cell_type": "code",
      "execution_count": null,
      "id": "ea27d67b",
      "metadata": {
        "id": "ea27d67b"
      },
      "outputs": [],
      "source": [
        "folds = 5\n",
        "param_comb = 5\n",
        "\n",
        "skf = StratifiedKFold(n_splits=folds, shuffle = True, random_state = 1001)\n",
        "\n",
        "random_search = RandomizedSearchCV(xgb, param_distributions=params, n_iter=param_comb, scoring='roc_auc', n_jobs=4, cv=skf.split(X_train_filtered,Y_train_boruta), verbose=3, random_state=1001 )\n",
        "\n",
        "# Here we go\n",
        " # timing starts from this point for \"start_time\" variable\n",
        "z_xgb=random_search.fit(X_train_filtered,Y_train_boruta)\n",
        "\n",
        "z_xgb.best_params_ \n",
        " # timing ends here for \"start_time\" variable"
      ]
    },
    {
      "cell_type": "code",
      "execution_count": null,
      "id": "f9ecc82d",
      "metadata": {
        "id": "f9ecc82d"
      },
      "outputs": [],
      "source": [
        "model_xgb = XGBClassifier(learning_rate=0.02, n_estimators=600, objective='binary:logistic',\n",
        "                    silent=True, nthread=1, max_depth=z_xgb.best_params_['max_depth'], min_child_weight=z_xgb.best_params_['min_child_weight'],colsample_bytree=z_xgb.best_params_['colsample_bytree'],gamma=z_xgb.best_params_['gamma'],subsample=z_xgb.best_params_['subsample'])\n",
        "model_xgb.fit(X_train_filtered,Y_train_boruta)"
      ]
    },
    {
      "cell_type": "code",
      "execution_count": null,
      "id": "120468e2",
      "metadata": {
        "id": "120468e2"
      },
      "outputs": [],
      "source": [
        "predict_test_label_xgb = model_xgb.predict(X_test_filtered)#test\n",
        "predict_train_label_xgb = model_xgb.predict(X_train_filtered)\n",
        "preds_xgb=model_xgb.predict_proba(X_test_filtered)"
      ]
    },
    {
      "cell_type": "code",
      "execution_count": null,
      "id": "1a92665b",
      "metadata": {
        "id": "1a92665b"
      },
      "outputs": [],
      "source": [
        "train_preds_xgb = model_xgb.predict_proba(X_train_filtered)\n",
        "pd.DataFrame(train_preds_xgb).to_csv('Predictions/XGB/train_preds_xgb.csv')"
      ]
    },
    {
      "cell_type": "code",
      "execution_count": null,
      "id": "bc70e7bb",
      "metadata": {
        "id": "bc70e7bb"
      },
      "outputs": [],
      "source": [
        "pd.DataFrame(predict_test_label_xgb).to_csv('Predictions/XGB/predict_test_label_xgb.csv')\n",
        "pd.DataFrame(predict_train_label_xgb).to_csv('Predictions/XGB/predict_train_label_xgb.csv')\n",
        "pd.DataFrame(preds_xgb).to_csv('Predictions/XGB/preds_xgb.csv')"
      ]
    },
    {
      "cell_type": "markdown",
      "id": "501f2485",
      "metadata": {
        "id": "501f2485"
      },
      "source": [
        "Testing Reports"
      ]
    },
    {
      "cell_type": "code",
      "execution_count": null,
      "id": "63723543",
      "metadata": {
        "id": "63723543"
      },
      "outputs": [],
      "source": [
        "print(\"Training Accuracy :\",metrics.accuracy_score(Y_train_boruta, predict_train_label_xgb))\n",
        "print(\"Testing Accuracy:\",metrics.accuracy_score(Y_test_boruta, predict_test_label_xgb))\n",
        "print(\"MCC Score:\",matthews_corrcoef(Y_test_boruta, predict_test_label_xgb))\n",
        "print(\"F1 Score:\",f1_score(Y_test_boruta, predict_test_label_xgb, average='macro'))\n",
        "fpr_rf, tpr_rf, _ = roc_curve(Y_test_boruta,preds_xgb[:, 1])\n",
        "roc_auc_rf = auc(fpr_rf, tpr_rf)\n",
        "print(\"AUC VALUE:\",roc_auc_rf)\n",
        "kappa_rf=sklearn.metrics.cohen_kappa_score(Y_test_boruta,predict_test_label_xgb)\n",
        "print(\"kappa Score:\",kappa_rf)"
      ]
    },
    {
      "cell_type": "code",
      "execution_count": null,
      "id": "5f07b368",
      "metadata": {
        "id": "5f07b368"
      },
      "outputs": [],
      "source": [
        "print(classification_report(Y_test_boruta, predict_test_label_xgb))"
      ]
    },
    {
      "cell_type": "markdown",
      "id": "8663d0d1",
      "metadata": {
        "id": "8663d0d1"
      },
      "source": [
        "## KNN Classifier"
      ]
    },
    {
      "cell_type": "code",
      "execution_count": null,
      "id": "0f13ccb5",
      "metadata": {
        "id": "0f13ccb5"
      },
      "outputs": [],
      "source": [
        "knn = KNeighborsClassifier(n_neighbors = 4).fit(X_train_filtered, Y_train_boruta)"
      ]
    },
    {
      "cell_type": "code",
      "execution_count": null,
      "id": "3e1909b3",
      "metadata": {
        "id": "3e1909b3"
      },
      "outputs": [],
      "source": [
        "predict_test_label_knn = knn.predict(X_test_filtered)#test\n",
        "predict_train_label_knn = knn.predict(X_train_filtered)\n",
        "preds_knn=knn.predict_proba(X_test_filtered)"
      ]
    },
    {
      "cell_type": "code",
      "execution_count": null,
      "id": "4c2d86cf",
      "metadata": {
        "id": "4c2d86cf"
      },
      "outputs": [],
      "source": [
        "train_preds_knn = knn.predict_proba(X_train_filtered)\n",
        "pd.DataFrame(train_preds_knn).to_csv('Predictions/KNN/train_preds_knn.csv')"
      ]
    },
    {
      "cell_type": "code",
      "execution_count": null,
      "id": "5cdb0b44",
      "metadata": {
        "id": "5cdb0b44"
      },
      "outputs": [],
      "source": [
        "pd.DataFrame(predict_test_label_knn).to_csv('Predictions/KNN/predict_test_label_knn.csv')\n",
        "pd.DataFrame(predict_train_label_knn).to_csv('Predictions/KNN/predict_train_label_knn.csv')\n",
        "pd.DataFrame(preds_knn).to_csv('Predictions/KNN/preds_knn.csv')"
      ]
    },
    {
      "cell_type": "markdown",
      "id": "5734f573",
      "metadata": {
        "id": "5734f573"
      },
      "source": [
        "Testing Reports"
      ]
    },
    {
      "cell_type": "code",
      "execution_count": null,
      "id": "e91fe8c7",
      "metadata": {
        "id": "e91fe8c7"
      },
      "outputs": [],
      "source": [
        "print(\"Training Accuracy :\",metrics.accuracy_score(Y_train_boruta, predict_train_label_knn))\n",
        "print(\"Testing Accuracy:\",metrics.accuracy_score(Y_test_boruta, predict_test_label_knn))\n",
        "print(\"MCC Score:\",matthews_corrcoef(Y_test_boruta, predict_test_label_knn))\n",
        "print(\"F1 Score:\",f1_score(Y_test_boruta, predict_test_label_knn, average='macro'))\n",
        "fpr_rf, tpr_rf, _ = roc_curve(Y_test_boruta,preds_knn[:, 1])\n",
        "roc_auc_rf = auc(fpr_rf, tpr_rf)\n",
        "print(\"AUC VALUE:\",roc_auc_rf)\n",
        "kappa_rf=sklearn.metrics.cohen_kappa_score(Y_test_boruta,predict_test_label_knn)\n",
        "print(\"kappa Score:\",kappa_rf)"
      ]
    },
    {
      "cell_type": "code",
      "execution_count": null,
      "id": "14ee904c",
      "metadata": {
        "id": "14ee904c"
      },
      "outputs": [],
      "source": [
        "print(classification_report(Y_test_boruta, predict_test_label_knn))"
      ]
    },
    {
      "cell_type": "markdown",
      "id": "2f42ddd2",
      "metadata": {
        "id": "2f42ddd2"
      },
      "source": [
        "## Gaussian Naive Bayes"
      ]
    },
    {
      "cell_type": "code",
      "execution_count": null,
      "id": "4420b183",
      "metadata": {
        "id": "4420b183"
      },
      "outputs": [],
      "source": [
        "gnb = GaussianNB().fit(X_train_filtered, Y_train_boruta)"
      ]
    },
    {
      "cell_type": "code",
      "execution_count": null,
      "id": "a1c4dcf2",
      "metadata": {
        "id": "a1c4dcf2"
      },
      "outputs": [],
      "source": [
        "predict_test_label_gnb = gnb.predict(X_test_filtered)#test\n",
        "predict_train_label_gnb = gnb.predict(X_train_filtered)\n",
        "preds_gnb=gnb.predict_proba(X_test_filtered)"
      ]
    },
    {
      "cell_type": "code",
      "execution_count": null,
      "id": "ade007bc",
      "metadata": {
        "id": "ade007bc"
      },
      "outputs": [],
      "source": [
        "pd.DataFrame(predict_test_label_gnb).to_csv('Predictions/GNB/predict_test_label_gnb.csv')\n",
        "pd.DataFrame(predict_train_label_gnb).to_csv('Predictions/GNB/predict_train_label_gnb.csv')\n",
        "pd.DataFrame(preds_gnb).to_csv('Predictions/GNB/preds_gnb.csv')"
      ]
    },
    {
      "cell_type": "code",
      "execution_count": null,
      "id": "655c7fbe",
      "metadata": {
        "id": "655c7fbe"
      },
      "outputs": [],
      "source": [
        "train_preds_gnb = gnb.predict_proba(X_train_filtered)\n",
        "pd.DataFrame(train_preds_gnb).to_csv('Predictions/GNB/train_preds_gnb.csv')"
      ]
    },
    {
      "cell_type": "markdown",
      "id": "4245bbb5",
      "metadata": {
        "id": "4245bbb5"
      },
      "source": [
        "Testing Reports"
      ]
    },
    {
      "cell_type": "code",
      "execution_count": null,
      "id": "f69aea1a",
      "metadata": {
        "id": "f69aea1a"
      },
      "outputs": [],
      "source": [
        "print(\"Training Accuracy :\",metrics.accuracy_score(Y_train_boruta, predict_train_label_gnb))\n",
        "print(\"Testing Accuracy:\",metrics.accuracy_score(Y_test_boruta, predict_test_label_gnb))\n",
        "print(\"MCC Score:\",matthews_corrcoef(Y_test_boruta, predict_test_label_gnb))\n",
        "print(\"F1 Score:\",f1_score(Y_test_boruta, predict_test_label_gnb, average='macro'))\n",
        "fpr_rf, tpr_rf, _ = roc_curve(Y_test_boruta,preds_gnb[:, 1])\n",
        "roc_auc_rf = auc(fpr_rf, tpr_rf)\n",
        "print(\"AUC VALUE:\",roc_auc_rf)\n",
        "kappa_rf=sklearn.metrics.cohen_kappa_score(Y_test_boruta,predict_test_label_gnb)\n",
        "print(\"kappa Score:\",kappa_rf)"
      ]
    },
    {
      "cell_type": "code",
      "execution_count": null,
      "id": "cd03b19a",
      "metadata": {
        "id": "cd03b19a"
      },
      "outputs": [],
      "source": [
        "print(classification_report(Y_test_boruta, predict_test_label_gnb))"
      ]
    },
    {
      "cell_type": "markdown",
      "id": "c555a6ca",
      "metadata": {
        "id": "c555a6ca"
      },
      "source": [
        "## Gradient Boosting Classifier"
      ]
    },
    {
      "cell_type": "code",
      "execution_count": null,
      "id": "6831fcd0",
      "metadata": {
        "id": "6831fcd0"
      },
      "outputs": [],
      "source": [
        "from sklearn.ensemble import GradientBoostingClassifier"
      ]
    },
    {
      "cell_type": "code",
      "execution_count": null,
      "id": "fe1d47b6",
      "metadata": {
        "id": "fe1d47b6"
      },
      "outputs": [],
      "source": [
        "lr_list = [0.05, 0.075, 0.1, 0.25, 0.5, 0.75, 1]\n",
        "\n",
        "for learning_rate in lr_list:\n",
        "    gb_clf = GradientBoostingClassifier(n_estimators=20, learning_rate=learning_rate, max_features=2, max_depth=2, random_state=0)\n",
        "    gb_clf.fit(X_train_filtered, Y_train_boruta)\n",
        "    print(\"Learning rate: \", learning_rate)\n",
        "    print(\"Accuracy score (training): {0:.3f}\".format(gb_clf.score(X_train_filtered, Y_train_boruta)))\n",
        "    print(\"Accuracy score (validation): {0:.3f}\".format(gb_clf.score(X_test_filtered, Y_test_boruta)))"
      ]
    },
    {
      "cell_type": "code",
      "execution_count": null,
      "id": "942733cd",
      "metadata": {
        "id": "942733cd"
      },
      "outputs": [],
      "source": [
        "#use maximum learning rate from above output here\n",
        "gb_clf2 = GradientBoostingClassifier(n_estimators=20, learning_rate=0.5, max_features=2, max_depth=2, random_state=0)\n",
        "gb_clf2.fit(X_train_filtered, Y_train_boruta)"
      ]
    },
    {
      "cell_type": "code",
      "execution_count": null,
      "id": "e7cdd0c8",
      "metadata": {
        "id": "e7cdd0c8"
      },
      "outputs": [],
      "source": [
        "predict_test_label_gbc = gb_clf2.predict(X_test_filtered)#test\n",
        "predict_train_label_gbc  = gb_clf2.predict(X_train_filtered)\n",
        "preds_gbc =gb_clf2.predict_proba(X_test_filtered)"
      ]
    },
    {
      "cell_type": "code",
      "execution_count": null,
      "id": "f20aa764",
      "metadata": {
        "id": "f20aa764"
      },
      "outputs": [],
      "source": [
        "pd.DataFrame(predict_test_label_gbc).to_csv('Predictions/GBC/predict_test_label_gbc.csv')\n",
        "pd.DataFrame(predict_train_label_gbc).to_csv('Predictions/GBC/predict_train_label_gbc.csv')\n",
        "pd.DataFrame(preds_gbc).to_csv('Predictions/GBC/preds_gbc.csv')"
      ]
    },
    {
      "cell_type": "code",
      "execution_count": null,
      "id": "bff970d2",
      "metadata": {
        "id": "bff970d2"
      },
      "outputs": [],
      "source": [
        "train_preds_gbc = gb_clf2.predict_proba(X_train_filtered)\n",
        "pd.DataFrame(train_preds_gbc).to_csv('Predictions/GBC/train_preds_gbc.csv')"
      ]
    },
    {
      "cell_type": "markdown",
      "id": "f88edab2",
      "metadata": {
        "id": "f88edab2"
      },
      "source": [
        "Testing Reports"
      ]
    },
    {
      "cell_type": "code",
      "execution_count": null,
      "id": "525f58bc",
      "metadata": {
        "id": "525f58bc"
      },
      "outputs": [],
      "source": [
        "print(\"Training Accuracy :\",metrics.accuracy_score(Y_train_boruta, predict_train_label_gbc))\n",
        "print(\"Testing Accuracy:\",metrics.accuracy_score(Y_test_boruta, predict_test_label_gbc))\n",
        "print(\"MCC Score:\",matthews_corrcoef(Y_test_boruta, predict_test_label_gbc))\n",
        "print(\"F1 Score:\",f1_score(Y_test_boruta, predict_test_label_gbc, average='macro'))\n",
        "fpr_rf, tpr_rf, _ = roc_curve(Y_test_boruta,preds_gbc[:, 1])\n",
        "roc_auc_rf = auc(fpr_rf, tpr_rf)\n",
        "print(\"AUC VALUE:\",roc_auc_rf)\n",
        "kappa_rf=sklearn.metrics.cohen_kappa_score(Y_test_boruta,predict_test_label_gbc)\n",
        "print(\"kappa Score:\",kappa_rf)"
      ]
    },
    {
      "cell_type": "code",
      "execution_count": null,
      "id": "6a243a50",
      "metadata": {
        "id": "6a243a50"
      },
      "outputs": [],
      "source": [
        "print(classification_report(Y_test_boruta, predict_test_label_gbc))"
      ]
    },
    {
      "cell_type": "markdown",
      "id": "1ba5a9c6",
      "metadata": {
        "id": "1ba5a9c6"
      },
      "source": [
        "## Stochastic Gradient Descent"
      ]
    },
    {
      "cell_type": "code",
      "execution_count": null,
      "id": "ebcecc21",
      "metadata": {
        "id": "ebcecc21"
      },
      "outputs": [],
      "source": [
        "from sklearn.linear_model import SGDClassifier\n",
        "from sklearn.preprocessing import StandardScaler\n",
        "from sklearn.pipeline import make_pipeline"
      ]
    },
    {
      "cell_type": "code",
      "execution_count": null,
      "id": "f7bdf97c",
      "metadata": {
        "id": "f7bdf97c"
      },
      "outputs": [],
      "source": [
        "sgd = SGDClassifier(loss = 'modified_huber', shuffle = True, random_state= 101).fit(X_train_filtered, Y_train_boruta)"
      ]
    },
    {
      "cell_type": "code",
      "execution_count": null,
      "id": "6a7b5464",
      "metadata": {
        "id": "6a7b5464"
      },
      "outputs": [],
      "source": [
        "predict_test_label_sgd = sgd.predict(X_test_filtered)#test\n",
        "predict_train_label_sgd = sgd.predict(X_train_filtered)\n",
        "preds_sgd=sgd.predict_proba(X_test_filtered)"
      ]
    },
    {
      "cell_type": "code",
      "execution_count": null,
      "id": "58d49221",
      "metadata": {
        "id": "58d49221"
      },
      "outputs": [],
      "source": [
        "pd.DataFrame(predict_test_label_sgd).to_csv('Predictions/SGD/predict_test_label_sgd.csv')\n",
        "pd.DataFrame(predict_train_label_sgd).to_csv('Predictions/SGD/predict_train_label_sgd.csv')\n",
        "pd.DataFrame(preds_sgd).to_csv('Predictions/SGD/preds_sgd.csv')"
      ]
    },
    {
      "cell_type": "code",
      "execution_count": null,
      "id": "a30cfed7",
      "metadata": {
        "id": "a30cfed7"
      },
      "outputs": [],
      "source": [
        "train_preds_sgd = sgd.predict_proba(X_train_filtered)\n",
        "pd.DataFrame(train_preds_sgd).to_csv('Predictions/SGD/train_preds_sgd.csv')"
      ]
    },
    {
      "cell_type": "markdown",
      "id": "0ad193f2",
      "metadata": {
        "id": "0ad193f2"
      },
      "source": [
        "Testing Reports"
      ]
    },
    {
      "cell_type": "code",
      "execution_count": null,
      "id": "2fa2dd27",
      "metadata": {
        "id": "2fa2dd27"
      },
      "outputs": [],
      "source": [
        "print(\"Training Accuracy :\",metrics.accuracy_score(Y_train_boruta, predict_train_label_sgd))\n",
        "print(\"Testing Accuracy:\",metrics.accuracy_score(Y_test_boruta, predict_test_label_sgd))\n",
        "print(\"MCC Score:\",matthews_corrcoef(Y_test_boruta, predict_test_label_sgd))\n",
        "print(\"F1 Score:\",f1_score(Y_test_boruta, predict_test_label_sgd, average='macro'))\n",
        "fpr_rf, tpr_rf, _ = roc_curve(Y_test_boruta,preds_sgd[:, 1])\n",
        "roc_auc_rf = auc(fpr_rf, tpr_rf)\n",
        "print(\"AUC VALUE:\",roc_auc_rf)\n",
        "kappa_rf=sklearn.metrics.cohen_kappa_score(Y_test_boruta,predict_test_label_sgd)\n",
        "print(\"kappa Score:\",kappa_rf)"
      ]
    },
    {
      "cell_type": "code",
      "execution_count": null,
      "id": "75e5ba12",
      "metadata": {
        "id": "75e5ba12"
      },
      "outputs": [],
      "source": [
        "print(classification_report(Y_test_boruta, predict_test_label_sgd))"
      ]
    },
    {
      "cell_type": "markdown",
      "id": "c8203f89",
      "metadata": {
        "id": "c8203f89"
      },
      "source": [
        "## Logistic Regression"
      ]
    },
    {
      "cell_type": "code",
      "execution_count": null,
      "id": "8fa97963",
      "metadata": {
        "id": "8fa97963"
      },
      "outputs": [],
      "source": [
        "lr=LogisticRegression(max_iter=1000)\n",
        "lr.fit(X_train_filtered, Y_train_boruta)"
      ]
    },
    {
      "cell_type": "code",
      "execution_count": null,
      "id": "82f5d492",
      "metadata": {
        "id": "82f5d492"
      },
      "outputs": [],
      "source": [
        "predict_test_label_lr = lr.predict(X_test_filtered)#test\n",
        "predict_train_label_lr = lr.predict(X_train_filtered)\n",
        "preds_lr=lr.predict_proba(X_test_filtered)"
      ]
    },
    {
      "cell_type": "code",
      "execution_count": null,
      "id": "61b57e22",
      "metadata": {
        "id": "61b57e22"
      },
      "outputs": [],
      "source": [
        "pd.DataFrame(predict_test_label_lr).to_csv('Predictions/LR/predict_test_label_lr.csv')\n",
        "pd.DataFrame(predict_train_label_lr).to_csv('Predictions/LR/predict_train_label_lr.csv')\n",
        "pd.DataFrame(preds_lr).to_csv('Predictions/LR/preds_lr.csv')"
      ]
    },
    {
      "cell_type": "code",
      "execution_count": null,
      "id": "df7cb20b",
      "metadata": {
        "id": "df7cb20b"
      },
      "outputs": [],
      "source": [
        "train_preds_lr = lr.predict_proba(X_train_filtered)\n",
        "pd.DataFrame(train_preds_lr).to_csv('Predictions/LR/train_preds_lr.csv')"
      ]
    },
    {
      "cell_type": "markdown",
      "id": "b31b4ecf",
      "metadata": {
        "id": "b31b4ecf"
      },
      "source": [
        "Testing Reports"
      ]
    },
    {
      "cell_type": "code",
      "execution_count": null,
      "metadata": {
        "id": "C0QdT-1kH-VX"
      },
      "outputs": [],
      "source": [
        "print(\"Training Accuracy :\",metrics.accuracy_score(Y_train_boruta, predict_train_label_lr))\n",
        "print(\"Testing Accuracy:\",metrics.accuracy_score(Y_test_boruta, predict_test_label_lr))\n",
        "print(\"MCC Score:\",matthews_corrcoef(Y_test_boruta, predict_test_label_lr))\n",
        "print(\"F1 Score:\",f1_score(Y_test_boruta, predict_test_label_lr, average='macro'))\n",
        "fpr_rf, tpr_rf, _ = roc_curve(Y_test_boruta,preds_lr[:, 1])\n",
        "roc_auc_rf = auc(fpr_rf, tpr_rf)\n",
        "print(\"AUC VALUE:\",roc_auc_rf)\n",
        "kappa_rf=sklearn.metrics.cohen_kappa_score(Y_test_boruta,predict_test_label_lr)\n",
        "print(\"kappa Score:\",kappa_rf)"
      ],
      "id": "C0QdT-1kH-VX"
    },
    {
      "cell_type": "code",
      "execution_count": null,
      "metadata": {
        "id": "6JeK94UZH-VX"
      },
      "outputs": [],
      "source": [
        "print(classification_report(Y_test_boruta, predict_test_label_lr))"
      ],
      "id": "6JeK94UZH-VX"
    },
    {
      "cell_type": "markdown",
      "id": "6728ded4",
      "metadata": {
        "id": "6728ded4"
      },
      "source": [
        "## Extra Tree Classifier"
      ]
    },
    {
      "cell_type": "code",
      "execution_count": null,
      "id": "702fe0fb",
      "metadata": {
        "id": "702fe0fb"
      },
      "outputs": [],
      "source": [
        "from sklearn.ensemble import ExtraTreesClassifier\n",
        "from sklearn.datasets import make_classification"
      ]
    },
    {
      "cell_type": "code",
      "execution_count": null,
      "id": "b47aaffc",
      "metadata": {
        "id": "b47aaffc"
      },
      "outputs": [],
      "source": [
        "clf = ExtraTreesClassifier(n_estimators=100, random_state=101)\n",
        "clf.fit(X_train_filtered, Y_train_boruta)"
      ]
    },
    {
      "cell_type": "code",
      "execution_count": null,
      "metadata": {
        "id": "bmbN6mmHH-VX"
      },
      "outputs": [],
      "source": [
        "predict_test_label_et = clf.predict(X_test_filtered)#test\n",
        "predict_train_label_et = clf.predict(X_train_filtered)\n",
        "preds_et=clf.predict_proba(X_test_filtered)"
      ],
      "id": "bmbN6mmHH-VX"
    },
    {
      "cell_type": "code",
      "execution_count": null,
      "id": "dc0dc181",
      "metadata": {
        "id": "dc0dc181"
      },
      "outputs": [],
      "source": [
        "pd.DataFrame(predict_test_label_et).to_csv('Predictions/ET/predict_test_label_et.csv')\n",
        "pd.DataFrame(predict_train_label_et).to_csv('Predictions/ET/predict_train_label_et.csv')\n",
        "pd.DataFrame(preds_et).to_csv('Predictions/ET/preds_et.csv')"
      ]
    },
    {
      "cell_type": "code",
      "execution_count": null,
      "id": "bcd83664",
      "metadata": {
        "id": "bcd83664"
      },
      "outputs": [],
      "source": [
        "train_preds_et = clf.predict_proba(X_train_filtered)\n",
        "pd.DataFrame(train_preds_et).to_csv('Predictions/ET/train_preds_et.csv')"
      ]
    },
    {
      "cell_type": "markdown",
      "metadata": {
        "id": "Y-4JHBFAH-VY"
      },
      "source": [
        "Testing Reports"
      ],
      "id": "Y-4JHBFAH-VY"
    },
    {
      "cell_type": "code",
      "execution_count": null,
      "metadata": {
        "id": "9dLh5Y6aH-VY"
      },
      "outputs": [],
      "source": [
        "print(\"Training Accuracy :\",metrics.accuracy_score(Y_train_boruta, predict_train_label_et))\n",
        "print(\"Testing Accuracy:\",metrics.accuracy_score(Y_test_boruta, predict_test_label_et))\n",
        "print(\"MCC Score:\",matthews_corrcoef(Y_test_boruta, predict_test_label_et))\n",
        "print(\"F1 Score:\",f1_score(Y_test_boruta, predict_test_label_et, average='macro'))\n",
        "fpr_rf, tpr_rf, _ = roc_curve(Y_test_boruta,preds_et[:, 1])\n",
        "roc_auc_rf = auc(fpr_rf, tpr_rf)\n",
        "print(\"AUC VALUE:\",roc_auc_rf)\n",
        "kappa_rf=sklearn.metrics.cohen_kappa_score(Y_test_boruta,predict_test_label_et)\n",
        "print(\"kappa Score:\",kappa_rf)"
      ],
      "id": "9dLh5Y6aH-VY"
    },
    {
      "cell_type": "code",
      "execution_count": null,
      "metadata": {
        "id": "-yOAvcXAH-VY"
      },
      "outputs": [],
      "source": [
        "print(classification_report(Y_test_boruta, predict_test_label_et))"
      ],
      "id": "-yOAvcXAH-VY"
    },
    {
      "cell_type": "markdown",
      "id": "de2847cf",
      "metadata": {
        "id": "de2847cf"
      },
      "source": [
        "# External Validation (Testing)"
      ]
    },
    {
      "cell_type": "code",
      "execution_count": null,
      "id": "ac2c8845",
      "metadata": {
        "id": "ac2c8845"
      },
      "outputs": [],
      "source": [
        "#Preprocessing step for external validation datasets\n",
        "def handle_missing_values(data):\n",
        "    data = data.replace([np.inf, -np.inf, \"\", \" \"], np.nan)\n",
        "    data = data.replace([\"\", \" \"], np.nan)\n",
        "    for i in data.columns:\n",
        "        data[i] = data[i].fillna(data[i].mean())\n",
        "    return data"
      ]
    },
    {
      "cell_type": "markdown",
      "id": "37927907",
      "metadata": {
        "id": "37927907"
      },
      "source": [
        "## Testing - FINAL Carcinogen Data - Combined"
      ]
    },
    {
      "cell_type": "markdown",
      "source": [
        "### Load Data"
      ],
      "metadata": {
        "id": "KbJwiTNjTurj"
      },
      "id": "KbJwiTNjTurj"
    },
    {
      "cell_type": "code",
      "execution_count": null,
      "id": "0ba80b81",
      "metadata": {
        "id": "0ba80b81"
      },
      "outputs": [],
      "source": [
        "#load signaturizer feature files for external validation datasets\n",
        "carc_data_1 = pd.read_csv('/home/vishakhag/Projects/Metabokiller_Revision/Feature_files/signaturizer_ISSCAN_FINAL_c_data.csv')\n",
        "carc_data_1"
      ]
    },
    {
      "cell_type": "code",
      "execution_count": null,
      "id": "d0f19534",
      "metadata": {
        "id": "d0f19534"
      },
      "outputs": [],
      "source": [
        "data_1 = carc_data_1.drop('smiles', axis = 1)\n",
        "data_1"
      ]
    },
    {
      "cell_type": "markdown",
      "source": [
        "### Data Preprocessing"
      ],
      "metadata": {
        "id": "G8jgjEFRTy6Y"
      },
      "id": "G8jgjEFRTy6Y"
    },
    {
      "cell_type": "code",
      "execution_count": null,
      "id": "bacb56e2",
      "metadata": {
        "id": "bacb56e2"
      },
      "outputs": [],
      "source": [
        "# data preprocessing, handle missing values by imputation\n",
        "data_1 = handle_missing_values(data_1)"
      ]
    },
    {
      "cell_type": "code",
      "execution_count": null,
      "id": "ff93a6ac",
      "metadata": {
        "id": "ff93a6ac"
      },
      "outputs": [],
      "source": [
        "data_1['status'].value_counts()"
      ]
    },
    {
      "cell_type": "code",
      "execution_count": null,
      "id": "d1b72b6b",
      "metadata": {
        "id": "d1b72b6b"
      },
      "outputs": [],
      "source": [
        "# Use only selected features for the external validation datasets\n",
        "X_data_1 = data_1[final_features]"
      ]
    },
    {
      "cell_type": "code",
      "execution_count": null,
      "id": "5436e2bf",
      "metadata": {
        "id": "5436e2bf"
      },
      "outputs": [],
      "source": [
        "y_data_1 = data_1['status']"
      ]
    },
    {
      "cell_type": "markdown",
      "source": [
        "### Test the models' performances"
      ],
      "metadata": {
        "id": "ckWt3r4AUajx"
      },
      "id": "ckWt3r4AUajx"
    },
    {
      "cell_type": "code",
      "execution_count": null,
      "id": "a7340055",
      "metadata": {
        "id": "a7340055"
      },
      "outputs": [],
      "source": [
        "models = {}\n",
        "\n",
        "# Logistic Regression\n",
        "models['Logistic Regression'] = lr\n",
        "\n",
        "# Support Vector Machines\n",
        "models['Support Vector Machines'] = svm_model\n",
        "\n",
        "# Gradient Boosting Classifier\n",
        "models['Gradient Boosting Classifier'] = gb_clf2\n",
        "\n",
        "# Random Forest\n",
        "models['Random Forest'] = model_rf\n",
        "\n",
        "# Gaussian Naive Bayes\n",
        "models['Gaussian Naive Bayes'] = gnb\n",
        "\n",
        "# K-Nearest Neighbors\n",
        "models['K-Nearest Neighbor'] = knn\n",
        "\n",
        "# Extra Tree Classifier\n",
        "models['Extra Tree Classifier'] = clf\n",
        "\n",
        "#Stochastic Gradient Descent\n",
        "models['Stochastic Gradient Descent'] = sgd\n",
        "\n",
        "#XG Boost\n",
        "models['XG Boost'] = model_xgb\n",
        "\n",
        "#MultiLayer Perceptron\n",
        "models['MultiLayer Perceptron'] = model_mlp"
      ]
    },
    {
      "cell_type": "code",
      "execution_count": null,
      "id": "3562d4ec",
      "metadata": {
        "id": "3562d4ec"
      },
      "outputs": [],
      "source": [
        "from sklearn.metrics import accuracy_score, precision_score, recall_score\n",
        "\n",
        "accuracy, precision, recall , MCC , F1_score , AUC , kappa = {}, {}, {}, {}, {}, {}, {}\n",
        "\n",
        "for key in models.keys():\n",
        "        \n",
        "    # Prediction \n",
        "    predictions = models[key].predict(X_data_1)\n",
        "    pred_probs = models[key].predict_proba(X_data_1)\n",
        "    \n",
        "    #AUC-ROC Calculations\n",
        "    fpr, tpr, _ = roc_curve(y_data_1,pred_probs[:, 1])\n",
        "    roc_auc = auc(fpr, tpr)\n",
        "    \n",
        "    # Calculate Accuracy, Precision and Recall Metrics\n",
        "    accuracy[key] = accuracy_score(predictions, y_data_1)\n",
        "    precision[key] = precision_score(predictions, y_data_1)\n",
        "    recall[key] = recall_score(predictions, y_data_1)\n",
        "    MCC[key] = matthews_corrcoef(y_data_1, predictions)\n",
        "    F1_score[key] = f1_score(y_data_1, predictions, average='macro')\n",
        "    AUC[key] = roc_auc\n",
        "    kappa[key] = sklearn.metrics.cohen_kappa_score(y_data_1,predictions)"
      ]
    },
    {
      "cell_type": "code",
      "execution_count": null,
      "id": "8b99167f",
      "metadata": {
        "id": "8b99167f"
      },
      "outputs": [],
      "source": [
        "df_model = pd.DataFrame(index=models.keys(), columns=['Accuracy', 'Precision', 'Recall', 'MCC Score', 'F1 Score', 'AUC Value', 'kappa Score'])\n",
        "df_model['Accuracy'] = accuracy.values()\n",
        "df_model['Precision'] = precision.values()\n",
        "df_model['Recall'] = recall.values()\n",
        "df_model['MCC Score'] = MCC.values()\n",
        "df_model['F1 Score'] = F1_score.values()\n",
        "df_model['AUC Value'] = AUC.values()\n",
        "df_model['kappa Score'] = kappa.values()\n",
        "\n",
        "\n",
        "\n",
        "df_model"
      ]
    },
    {
      "cell_type": "code",
      "execution_count": null,
      "id": "63bf17d6",
      "metadata": {
        "id": "63bf17d6"
      },
      "outputs": [],
      "source": [
        "df_model = df_model.sort_values(by=['Accuracy'],ascending = False)\n",
        "df_model"
      ]
    },
    {
      "cell_type": "markdown",
      "metadata": {
        "id": "hC7EjHz1H-Vb"
      },
      "source": [
        "## Testing - Test Sets (4NC,DP)"
      ],
      "id": "hC7EjHz1H-Vb"
    },
    {
      "cell_type": "markdown",
      "source": [
        "### Load Data"
      ],
      "metadata": {
        "id": "01IdyR6kU7xu"
      },
      "id": "01IdyR6kU7xu"
    },
    {
      "cell_type": "code",
      "execution_count": null,
      "metadata": {
        "id": "BpYqg7TCH-Vb"
      },
      "outputs": [],
      "source": [
        "#load signaturizer feature file for the test set molecules\n",
        "carc_data_1 = pd.read_csv('/home/vishakhag/Projects/Metabokiller_Revision/TESTSETS/signaturizer_testdata.csv')\n",
        "carc_data_1"
      ],
      "id": "BpYqg7TCH-Vb"
    },
    {
      "cell_type": "code",
      "execution_count": null,
      "metadata": {
        "id": "iafu3A9NH-Vb"
      },
      "outputs": [],
      "source": [
        "data_1 = carc_data_1.drop(['smiles','name'], axis = 1)\n",
        "data_1"
      ],
      "id": "iafu3A9NH-Vb"
    },
    {
      "cell_type": "markdown",
      "source": [
        "### Data Preprocessing"
      ],
      "metadata": {
        "id": "iRR1vyM8VALg"
      },
      "id": "iRR1vyM8VALg"
    },
    {
      "cell_type": "code",
      "execution_count": null,
      "metadata": {
        "id": "3iTiTW2cH-Vb"
      },
      "outputs": [],
      "source": [
        "data_1 = handle_missing_values(data_1)"
      ],
      "id": "3iTiTW2cH-Vb"
    },
    {
      "cell_type": "code",
      "execution_count": null,
      "metadata": {
        "id": "jMnoWHkiH-Vc"
      },
      "outputs": [],
      "source": [
        "data_1['status'].value_counts()"
      ],
      "id": "jMnoWHkiH-Vc"
    },
    {
      "cell_type": "code",
      "execution_count": null,
      "metadata": {
        "id": "jprAqG1mH-Vc"
      },
      "outputs": [],
      "source": [
        "X_data_1 = data_1[final_features]"
      ],
      "id": "jprAqG1mH-Vc"
    },
    {
      "cell_type": "code",
      "execution_count": null,
      "metadata": {
        "id": "taOoIYT4H-Vc"
      },
      "outputs": [],
      "source": [
        "y_data_1 = data_1['status']"
      ],
      "id": "taOoIYT4H-Vc"
    },
    {
      "cell_type": "markdown",
      "source": [
        "### Testing the models' performances"
      ],
      "metadata": {
        "id": "TDBMtSCXVJhh"
      },
      "id": "TDBMtSCXVJhh"
    },
    {
      "cell_type": "code",
      "execution_count": null,
      "metadata": {
        "id": "v4Fn-j3NH-Vc"
      },
      "outputs": [],
      "source": [
        "models = {}\n",
        "\n",
        "# Logistic Regression\n",
        "models['Logistic Regression'] = lr\n",
        "\n",
        "# # Support Vector Machines\n",
        "models['Support Vector Machines'] = svm_model\n",
        "\n",
        "# # Gradient Boosting Classifier\n",
        "models['Gradient Boosting Classifier'] = gb_clf2\n",
        "\n",
        "# # Random Forest\n",
        "models['Random Forest'] = model_rf\n",
        "\n",
        "# # Gaussian Naive Bayes\n",
        "models['Gaussian Naive Bayes'] = gnb\n",
        "\n",
        "# # K-Nearest Neighbors\n",
        "models['K-Nearest Neighbor'] = knn\n",
        "\n",
        "# Extra Tree Classifier\n",
        "models['Extra Tree Classifier'] = clf\n",
        "\n",
        "#Stochastic Gradient Descent\n",
        "models['Stochastic Gradient Descent'] = sgd\n",
        "\n",
        "# #XG Boost\n",
        "models['XG Boost'] = model_xgb\n",
        "\n",
        "# #MultiLayer Perceptron\n",
        "models['MultiLayer Perceptron'] = model_mlp"
      ],
      "id": "v4Fn-j3NH-Vc"
    },
    {
      "cell_type": "code",
      "execution_count": null,
      "metadata": {
        "id": "KljLzWzeH-Vd"
      },
      "outputs": [],
      "source": [
        "from sklearn.metrics import accuracy_score, precision_score, recall_score\n",
        "\n",
        "accuracy, precision, recall , MCC , F1_score , AUC , kappa, pred_4NC, preds_DOPAC , probablity_4NC , probablity_DP = {}, {}, {}, {},{}, {}, {}, {}, {}, {}, {}\n",
        "\n",
        "for key in models.keys():\n",
        "        \n",
        "    # Prediction \n",
        "    predictions = models[key].predict(X_data_1)\n",
        "    pred_probs = models[key].predict_proba(X_data_1)\n",
        "    \n",
        "    #AUC-ROC Calculations\n",
        "    fpr, tpr, _ = roc_curve(y_data_1,pred_probs[:, 1])\n",
        "    roc_auc = auc(fpr, tpr)\n",
        "    \n",
        "    # Calculate Accuracy, Precision and Recall Metrics, and Prediction Probabilities\n",
        "    accuracy[key] = accuracy_score(predictions, y_data_1)\n",
        "    precision[key] = precision_score(predictions, y_data_1)\n",
        "    recall[key] = recall_score(predictions, y_data_1)\n",
        "    MCC[key] = matthews_corrcoef(y_data_1, predictions)\n",
        "    F1_score[key] = f1_score(y_data_1, predictions, average='macro')\n",
        "    AUC[key] = roc_auc\n",
        "    kappa[key] = sklearn.metrics.cohen_kappa_score(y_data_1,predictions)\n",
        "    pred_4NC[key] = predictions[0]\n",
        "    preds_DOPAC[key] = predictions[1]\n",
        "    probablity_4NC[key]= np.max(pred_probs[0])\n",
        "    probablity_DP[key]= np.max(pred_probs[1])"
      ],
      "id": "KljLzWzeH-Vd"
    },
    {
      "cell_type": "code",
      "execution_count": null,
      "metadata": {
        "id": "8NxtszaBH-Vd"
      },
      "outputs": [],
      "source": [
        "df_model = pd.DataFrame(index=models.keys(), columns=['Accuracy', 'Precision', 'Recall', 'MCC Score', 'F1 Score', 'AUC Value', 'kappa Score', 'Preds_4NC' , 'Preds_DP','Prob_4NC','Prob_DP'])\n",
        "df_model['Accuracy'] = accuracy.values()\n",
        "df_model['Precision'] = precision.values()\n",
        "df_model['Recall'] = recall.values()\n",
        "df_model['MCC Score'] = MCC.values()\n",
        "df_model['F1 Score'] = F1_score.values()\n",
        "df_model['AUC Value'] = AUC.values()\n",
        "df_model['kappa Score'] = kappa.values()\n",
        "df_model['Preds_4NC'] = pred_4NC.values()\n",
        "df_model['Preds_DP'] = preds_DOPAC.values()\n",
        "df_model['Prob_4NC'] = probablity_4NC.values()\n",
        "df_model['Prob_DP'] = probablity_DP.values()\n",
        "\n",
        "df_model"
      ],
      "id": "8NxtszaBH-Vd"
    },
    {
      "cell_type": "code",
      "execution_count": null,
      "metadata": {
        "id": "kOxQgHujH-Vd"
      },
      "outputs": [],
      "source": [
        "df_model = df_model.sort_values(by=['Accuracy'],ascending = False)\n",
        "df_model"
      ],
      "id": "kOxQgHujH-Vd"
    },
    {
      "cell_type": "markdown",
      "source": [
        "#**HyperParameter Tuning** \n",
        "\n",
        "---\n",
        "\n"
      ],
      "metadata": {
        "id": "Zn_arzibVfrg"
      },
      "id": "Zn_arzibVfrg"
    },
    {
      "cell_type": "markdown",
      "source": [
        "# Upsampling"
      ],
      "metadata": {
        "id": "482llwqFXTwZ"
      },
      "id": "482llwqFXTwZ"
    },
    {
      "cell_type": "code",
      "source": [
        "def Smote(traindata,trainlabel,prop,name):\n",
        "        oversampler= sv.MSMOTE(proportion=prop,random_state=50)\n",
        "        X_samp, y_samp= oversampler.sample(traindata.values,trainlabel.values)     \n",
        "        X_samp= pd.DataFrame(X_samp)\n",
        "        y_samp=pd.DataFrame(y_samp)\n",
        "        X_samp.columns =list(traindata.columns.values)\n",
        "        return X_samp,y_samp"
      ],
      "metadata": {
        "id": "4qSwHPGqVjLI"
      },
      "id": "4qSwHPGqVjLI",
      "execution_count": null,
      "outputs": []
    },
    {
      "cell_type": "markdown",
      "source": [
        "# DownSampling (Genomic Instability)"
      ],
      "metadata": {
        "id": "TlxtQ6UQGmAS"
      },
      "id": "TlxtQ6UQGmAS"
    },
    {
      "cell_type": "code",
      "source": [
        "from imblearn.under_sampling import RandomUnderSampler\n",
        "def Smote_Under(traindata,trainlabel):\n",
        "        # define undersample strategy\n",
        "        undersample = RandomUnderSampler(sampling_strategy='majority')\n",
        "        X_samp, y_samp = undersample.fit_resample(traindata.values,trainlabel.values)        \n",
        "        X_samp= pd.DataFrame(X_samp)\n",
        "        y_samp=pd.DataFrame(y_samp)\n",
        "        X_samp.columns =list(traindata.columns.values)\n",
        "        return X_samp,y_samp"
      ],
      "metadata": {
        "id": "xibTj90vGqzp"
      },
      "id": "xibTj90vGqzp",
      "execution_count": null,
      "outputs": []
    },
    {
      "cell_type": "markdown",
      "source": [
        "# Feature Selection (Boruta)"
      ],
      "metadata": {
        "id": "EU_t91VeXaMI"
      },
      "id": "EU_t91VeXaMI"
    },
    {
      "cell_type": "code",
      "source": [
        "def Boruta_Filteration(X_train,y_train,X_test,y_test):\n",
        "    #### making files for boruta\n",
        "    features = [f for f in X_train.columns if f not in ['status']]\n",
        "    X_train_boruta = X_train[features].values\n",
        "    Y_train_boruta = y_train.values.ravel()\n",
        "    X_test_boruta = X_test[features].values\n",
        "    Y_test_boruta = y_test.values.ravel()\n",
        "\n",
        "    print('Before filteration\\nTrain shape\\n',X_train_boruta.shape,'\\nTest shape\\n',X_test_boruta.shape)\n",
        "\n",
        "    ### implementing boruta\n",
        "    \n",
        "    # define random forest classifier, with utilising all cores and\n",
        "    # sampling in proportion to y labels\n",
        "    rf = RandomForestClassifier(n_jobs=-1, class_weight='balanced', max_depth=5)\n",
        "\n",
        "    # define Boruta feature selection method\n",
        "    feat_selector = BorutaPy(rf, n_estimators=100, random_state=1)\n",
        "\n",
        "    # find all relevant features - 5 features should be selected\n",
        "    feat_selector.fit(X_train_boruta, Y_train_boruta)\n",
        "\n",
        "    # check selected features - first 5 features are selected\n",
        "    feat_selector.support_\n",
        "\n",
        "    # check ranking of features\n",
        "    feat_selector.ranking_\n",
        "\n",
        "    # call transform() on X to filter it down to selected features\n",
        "    X_train_filtered = feat_selector.transform(X_train_boruta)\n",
        "    X_test_filtered = feat_selector.transform(X_test_boruta)\n",
        "\n",
        "    ### name of the features selected####\n",
        "    final_features = list()\n",
        "    indexes = np.where(feat_selector.support_ == True)\n",
        "    for x in np.nditer(indexes):\n",
        "        final_features.append(features[x])\n",
        "    \n",
        "    print('# of Features selected:',len(final_features))\n",
        "\n",
        "    X_train_filtered=pd.DataFrame(X_train_filtered,columns=final_features)\n",
        "    X_test_filtered=pd.DataFrame(X_test_filtered,columns=final_features)\n",
        "\n",
        "    print('After filteration\\nTrain shape\\n',X_train_filtered.shape,'\\nTest shape\\n',X_test_filtered.shape)\n",
        "\n",
        "    return X_train_filtered,X_test_filtered,Y_train_boruta,Y_test_boruta,final_features"
      ],
      "metadata": {
        "id": "4uXyxldcXgFw"
      },
      "id": "4uXyxldcXgFw",
      "execution_count": null,
      "outputs": []
    },
    {
      "cell_type": "markdown",
      "source": [
        "# Loading Data"
      ],
      "metadata": {
        "id": "KRGy060OYC5b"
      },
      "id": "KRGy060OYC5b"
    },
    {
      "cell_type": "code",
      "source": [
        "# Set random seed to maintain the randomness of each hyperparameter tuning run\n",
        "def seed_all():\n",
        "    np.random.seed(123)\n",
        "    tf.random.set_seed(123)\n",
        "seed_all()"
      ],
      "metadata": {
        "id": "r0liHuRZYOBo"
      },
      "id": "r0liHuRZYOBo",
      "execution_count": null,
      "outputs": []
    },
    {
      "cell_type": "code",
      "source": [
        "# Make a new directory for HyperParameter Tuning\n",
        "os.mkdir('/home/vishakhag/Projects/Metabokiller_Revision/Anti-Proliferation/HPTuning_RF')"
      ],
      "metadata": {
        "id": "YiGQDpIxYT6J"
      },
      "id": "YiGQDpIxYT6J",
      "execution_count": null,
      "outputs": []
    },
    {
      "cell_type": "code",
      "source": [
        "# FROM = Path of directory from which to load the preprocessed signaturizer file\n",
        "FROM='/home/vishakhag/Projects/Metabokiller_Revision/Anti-Proliferation/PreProcessed/'\n",
        "# TO = Path of the newly made HyperParameter Tuning directory\n",
        "TO='/home/vishakhag/Projects/Metabokiller_Revision/Anti-Proliferation/HPTuning_RF'\n",
        "\n",
        "# Set the HPTuning directory as the current working directory\n",
        "os.chdir(TO)"
      ],
      "metadata": {
        "id": "Yd0YqLgwYgUL"
      },
      "id": "Yd0YqLgwYgUL",
      "execution_count": null,
      "outputs": []
    },
    {
      "cell_type": "code",
      "source": [
        "# Load the preprocessed signaturizer file\n",
        "Data=pd.read_csv(FROM+'sign_proliferative_anti_preprocessed.csv')\n",
        "Data"
      ],
      "metadata": {
        "id": "ekibh2spYnLL"
      },
      "id": "ekibh2spYnLL",
      "execution_count": null,
      "outputs": []
    },
    {
      "cell_type": "code",
      "source": [
        "# Use 90% of the Data as Training Data for further hyperparameter tuning\n",
        "Train=Data.sample(n=int(len(Data)*0.9), random_state=1)\n",
        "Train"
      ],
      "metadata": {
        "id": "LD9dkwmAZavN"
      },
      "id": "LD9dkwmAZavN",
      "execution_count": null,
      "outputs": []
    },
    {
      "cell_type": "code",
      "source": [
        "#RUN THIS IF LOADING A SAVED MODEL\n",
        "# model = joblib.load('../Epigenetics/HPTuning/HOLY_epigenetic_model_svm.pkl')"
      ],
      "metadata": {
        "id": "Yr8zx2XsjsMa"
      },
      "id": "Yr8zx2XsjsMa",
      "execution_count": null,
      "outputs": []
    },
    {
      "cell_type": "markdown",
      "source": [
        "# Defining the Grid"
      ],
      "metadata": {
        "id": "2qaMOxhtZz86"
      },
      "id": "2qaMOxhtZz86"
    },
    {
      "cell_type": "markdown",
      "source": [
        "## Random Forest Grid (Proliferation)"
      ],
      "metadata": {
        "id": "BAxEJz9sZ5NJ"
      },
      "id": "BAxEJz9sZ5NJ"
    },
    {
      "cell_type": "code",
      "source": [
        "def HPTing_Model(Train_x, Train_y):\n",
        "    rf = RandomForestClassifier()\n",
        "    parameters = {\n",
        "        'max_features': ['auto', 'sqrt'],\n",
        "        'max_depth': [int(x) for x in np.linspace(10, 110, num = 11)],\n",
        "        'min_samples_split': [2, 5, 10],\n",
        "        'min_samples_leaf': [1, 2, 4],\n",
        "        'bootstrap':[True, False],\n",
        "        'n_estimators':[int(x) for x in np.linspace(start = 2, stop = 100, num = 10)]\n",
        "    }\n",
        "    grid = RandomizedSearchCV(rf, parameters, scoring='accuracy', return_train_score=False, cv =5)\n",
        "    grid_search=grid.fit(Train_x, Train_y)\n",
        "    return grid_search"
      ],
      "metadata": {
        "id": "_Qkd8K25aAEj"
      },
      "id": "_Qkd8K25aAEj",
      "execution_count": null,
      "outputs": []
    },
    {
      "cell_type": "markdown",
      "source": [
        "## MLP Grid (Electrophile)"
      ],
      "metadata": {
        "id": "ynfEpHyCZ9kp"
      },
      "id": "ynfEpHyCZ9kp"
    },
    {
      "cell_type": "code",
      "source": [
        "def HPTing_Model(Train_x, Train_y):\n",
        "    mlp = MLPClassifier()\n",
        "    parameter_space = { 'hidden_layer_sizes':[(5,5,5),(20,30,50),(50,50,50), (50,100,50), (100,),(100,100,100),(5,2)],\n",
        "                       'activation': ['tanh', 'relu'],\n",
        "                       'solver': ['sgd', 'adam'],\n",
        "                       'alpha': [0.001, 0.01, 0.02, 0.04, 0.05],\n",
        "                       'learning_rate': ['constant','adaptive','invscaling']\n",
        "}\n",
        "    grid = RandomizedSearchCV(mlp, parameter_space, scoring='accuracy', return_train_score=False, cv =5)\n",
        "    grid_search=grid.fit(Train_x, Train_y)\n",
        "    return grid_search"
      ],
      "metadata": {
        "id": "dOh11DJCcBmB"
      },
      "id": "dOh11DJCcBmB",
      "execution_count": null,
      "outputs": []
    },
    {
      "cell_type": "markdown",
      "source": [
        "## MLP Grid (Oxidative)"
      ],
      "metadata": {
        "id": "Ue3oAch1cOlx"
      },
      "id": "Ue3oAch1cOlx"
    },
    {
      "cell_type": "code",
      "source": [
        "def HPTing_Model(Train_x, Train_y):\n",
        "    mlp = MLPClassifier( max_iter= 1000 , random_state=50)\n",
        "    parameter_space = { 'hidden_layer_sizes':[(5,5,5),(20,30,50),(50,50,50), (50,100,50), (100,),(100,100,100),(5,2)],'activation': ['tanh', 'relu'],\n",
        "        'solver': ['sgd', 'adam'],\n",
        "        'alpha': [0.0001, 0.05,0.001,0.01],\n",
        "        'learning_rate': ['constant','adaptive']}\n",
        "    grid = RandomizedSearchCV(mlp, parameter_space, scoring='accuracy',cv=5 ,return_train_score=False)\n",
        "    grid_search=grid.fit(Train_x, Train_y)\n",
        "    return grid_search"
      ],
      "metadata": {
        "id": "G_S7JNtqcSQ6"
      },
      "id": "G_S7JNtqcSQ6",
      "execution_count": null,
      "outputs": []
    },
    {
      "cell_type": "markdown",
      "source": [
        "## SVM Grid (Epigenetics)"
      ],
      "metadata": {
        "id": "J026ZL7Bcz7x"
      },
      "id": "J026ZL7Bcz7x"
    },
    {
      "cell_type": "code",
      "source": [
        "def HPTing_Model(Train_x, Train_y):\n",
        "    svc_rand = SVC(probability=True)\n",
        "    parameters = {\n",
        "        'kernel':('linear', 'rbf'),\n",
        "        'C': [0.5, 0.6, 0.8, 1.0, 1.2, 1.5], \n",
        "        'gamma': [0.05, 0.1, 1.0, 1.2, 1.5, 2],\n",
        "    }\n",
        "    grid = RandomizedSearchCV(svc_rand, parameters, cv = 5)\n",
        "    grid_search=grid.fit(Train_x, Train_y)\n",
        "    return grid_search"
      ],
      "metadata": {
        "id": "z9sw3UGlc3xL"
      },
      "id": "z9sw3UGlc3xL",
      "execution_count": null,
      "outputs": []
    },
    {
      "cell_type": "markdown",
      "source": [
        "## Random Forest Grid (Genomic Instability)"
      ],
      "metadata": {
        "id": "VzFDOLM-c6VT"
      },
      "id": "VzFDOLM-c6VT"
    },
    {
      "cell_type": "code",
      "source": [
        "def HPTing_Model(Train_x, Train_y):\n",
        "    n_estimators = [int(x) for x in np.linspace(start = 2, stop = 100, num = 10)]\n",
        "    max_features = ['auto', 'sqrt']\n",
        "    max_depth = [int(x) for x in np.linspace(10, 110, num = 11)]\n",
        "    max_depth.append(None)\n",
        "    min_samples_split = list(range(1,30))\n",
        "    min_samples_leaf = list(range(1,20))\n",
        "    bootstrap = [True, False]\n",
        "    random_grid = {'n_estimators': n_estimators,\n",
        "               'max_features': max_features,\n",
        "               'max_depth': max_depth,\n",
        "               'min_samples_split': min_samples_split,\n",
        "               'min_samples_leaf': min_samples_leaf,\n",
        "               'bootstrap': bootstrap}\n",
        "    rf = RandomForestClassifier()\n",
        "    rf_random = RandomizedSearchCV(estimator = rf, param_distributions = random_grid, n_iter = 100, cv = 10, verbose=2, n_jobs = -1)\n",
        "    rf_random.fit(Train_x, Train_y)\n",
        "    return rf_random"
      ],
      "metadata": {
        "id": "c6q8TpU-dAAC"
      },
      "id": "c6q8TpU-dAAC",
      "execution_count": null,
      "outputs": []
    },
    {
      "cell_type": "markdown",
      "source": [
        "## KNN Grid (Apoptosis)"
      ],
      "metadata": {
        "id": "lGSVfSxJdCnp"
      },
      "id": "lGSVfSxJdCnp"
    },
    {
      "cell_type": "code",
      "source": [
        "def HPTing_Model(Train_x, Train_y):\n",
        "    leaf_size = list(range(1,50))\n",
        "    n_neighbors = list(range(1,40))\n",
        "    p=list(range(1,20))\n",
        "    #Convert to dictionary\n",
        "    hyperparameters = dict(leaf_size=leaf_size, n_neighbors=n_neighbors, p=p, weights=['uniform','distance'], metric= ['minkowski','euclidean','manhattan'])\n",
        "    #Create new KNN object\n",
        "    knn = KNeighborsClassifier()\n",
        "    #Use GridSearch\n",
        "    knn_Grid = GridSearchCV(knn, hyperparameters, cv=3, verbose=2, n_jobs = -1)\n",
        "    best_model = knn_Grid.fit(Train_x, Train_y)\n",
        "    return best_model\n"
      ],
      "metadata": {
        "id": "YrqNmFQmdFcB"
      },
      "id": "YrqNmFQmdFcB",
      "execution_count": null,
      "outputs": []
    },
    {
      "cell_type": "markdown",
      "source": [
        "# Get Labels Function"
      ],
      "metadata": {
        "id": "mai1HWTZdGMZ"
      },
      "id": "mai1HWTZdGMZ"
    },
    {
      "cell_type": "code",
      "source": [
        "def get_labels(pred_test,thsd): #Getting discrete labels from probability values    \n",
        "    test_label = [] \n",
        "    for i in range(len(pred_test)):\n",
        "        if pred_test[i]>thsd:\n",
        "            test_label.append(1)\n",
        "        else:\n",
        "            test_label.append(0)\n",
        "    return test_label"
      ],
      "metadata": {
        "id": "0D_Zcu65dWV4"
      },
      "id": "0D_Zcu65dWV4",
      "execution_count": null,
      "outputs": []
    },
    {
      "cell_type": "markdown",
      "source": [
        "# Scoring Metrics"
      ],
      "metadata": {
        "id": "-dudwC7DdJLy"
      },
      "id": "-dudwC7DdJLy"
    },
    {
      "cell_type": "code",
      "source": [
        "def Scoring_metrices(label, pred, truth, D):\n",
        "    score={}\n",
        "    \n",
        "    accuracy = metrics.accuracy_score(truth, label)\n",
        "    score[D+\" Accuracy:\"] = accuracy\n",
        "    print(D+\" Accuracy:\", accuracy)\n",
        "    \n",
        "    mcc_score = matthews_corrcoef(truth, label)\n",
        "    score[D+\" MCC Score:\"] = mcc_score\n",
        "    print(D+\" MCC Score:\",mcc_score)\n",
        "    \n",
        "    F1_score = f1_score(truth, label, average='macro')\n",
        "    score[D+\" F1 Score:\"] = F1_score\n",
        "    print(D+\" F1 Score:\", F1_score)\n",
        "    \n",
        "    fpr, tpr, _ = roc_curve(truth, pred)\n",
        "    roc_auc = auc(fpr, tpr)\n",
        "    score[D+\" AUC VALUE:\"] = roc_auc\n",
        "    print(D+\" AUC VALUE:\",roc_auc)\n",
        "    \n",
        "    kappa_rf=sklearn.metrics.cohen_kappa_score(truth, label)\n",
        "    score[D+\" kappa Score:\"] = kappa_rf\n",
        "    print(D+\" kappa Score:\",kappa_rf)\n",
        "    \n",
        "    Precision_score = metrics.precision_score(truth, label)\n",
        "    score[D+\" Precision:\"] = Precision_score\n",
        "    print(D+\" Precision:\", Precision_score)\n",
        "    \n",
        "    Recall_score = metrics.recall_score(truth, label)\n",
        "    score[D+\" Recall:\"] = Recall_score\n",
        "    print(D+\" Recall:\", Recall_score)\n",
        "    \n",
        "    \n",
        "    display = metrics.RocCurveDisplay(fpr=fpr, tpr=tpr, roc_auc=roc_auc, estimator_name=D)\n",
        "    display.plot()\n",
        "    #plt.savefig('AUC_ROC.pdf')\n",
        "    plt.show()\n",
        "    return score"
      ],
      "metadata": {
        "id": "VfiVsmV0dkJJ"
      },
      "id": "VfiVsmV0dkJJ",
      "execution_count": null,
      "outputs": []
    },
    {
      "cell_type": "markdown",
      "source": [
        "# Hyperparameter Tuning of the Model"
      ],
      "metadata": {
        "id": "8jJh7r2Kdm9P"
      },
      "id": "8jJh7r2Kdm9P"
    },
    {
      "cell_type": "code",
      "source": [
        "Train_Fold_outs=[]\n",
        "Test_Fold_outs=[]\n",
        "Best_params=[]\n",
        "features = []\n",
        "models=[]\n",
        "\n",
        "#this chunk runs 20 iterations of the 5-Cross Validation of the pre-defined grid for the model\n",
        "for i in range(20):\n",
        "    print('Fold #',i)    \n",
        "    \n",
        "    # Split Data\n",
        "    X_train, X_test,y_train,y_test = train_test_split(Train,Train[\"status\"] ,test_size=0.25, shuffle = True, random_state=i)\n",
        "    \n",
        "    #Drop smiles,status from training,testing data\n",
        "    x_train = X_train.drop(['status','smiles'], axis=1)\n",
        "    x_test = X_test.drop(['status','smiles'], axis=1)\n",
        "\n",
        "    #Feature selection\n",
        "    x_train_filtered,x_test_filtered,y_train_filtered,y_test_filtered,selected_features = Boruta_Filteration(x_train,y_train,x_test,y_test)\n",
        "    features.append(selected_features)\n",
        "    \n",
        "    y_train_filtered = pd.Series(y_train_filtered)\n",
        "    \n",
        "    #Oversampling\n",
        "    Final_Xtrain,Final_Ytrain = Smote(x_train_filtered,y_train_filtered,0.5,'Upsampled')\n",
        "    \n",
        "    Final_Ytrain=Final_Ytrain.values.ravel()\n",
        "    Final_Xtrain = pd.DataFrame(Final_Xtrain, dtype = np.float64)\n",
        "    x_test_filtered = pd.DataFrame(x_test_filtered, dtype = np.float64)\n",
        "    \n",
        "    #Hyperparameter Tuning\n",
        "    Parameters = HPTing_Model(Final_Xtrain,Final_Ytrain)\n",
        "    \n",
        "    #save best parameters\n",
        "    Best_params.append(Parameters.best_estimator_.get_params())\n",
        "    \n",
        "    #build the tuned model\n",
        "    #edit the parameters here according to your defined parameter space and model's grid\n",
        "    rf = RandomForestClassifier(max_features=Parameters.best_estimator_.get_params()['max_features'],\n",
        "                        max_depth=Parameters.best_estimator_.get_params()['max_depth'],\n",
        "                        min_samples_split=Parameters.best_estimator_.get_params()['min_samples_split'],\n",
        "                        min_samples_leaf=Parameters.best_estimator_.get_params()['min_samples_leaf'],\n",
        "                        bootstrap=Parameters.best_estimator_.get_params()['bootstrap'],\n",
        "                        n_estimators=Parameters.best_estimator_.get_params()['n_estimators'])\n",
        "    \n",
        "    #fit the built model\n",
        "    rf.fit(Final_Xtrain,Final_Ytrain)\n",
        "    models.append(rf)\n",
        "\n",
        "    #Training Predictions for the model\n",
        "    y_train_pred=rf.predict(Final_Xtrain)\n",
        "    y_train_prob=rf.predict_proba(Final_Xtrain)\n",
        "\n",
        "    #Save training metrics\n",
        "    Train_Fold_outs.append(Scoring_metrices(y_train_pred,y_train_prob[:,1],Final_Ytrain,'Training'))\n",
        "\n",
        "    #Testing Predictions for the model\n",
        "    y_test_pred=rf.predict(x_test_filtered) \n",
        "    y_test_prob=rf.predict_proba(x_test_filtered)\n",
        "\n",
        "    #Save testing metrics\n",
        "    Test_Fold_outs.append(Scoring_metrices(y_test_pred,y_test_prob[:,1],y_test_filtered,'Testing'))"
      ],
      "metadata": {
        "id": "GgtTiXQYdtj5"
      },
      "id": "GgtTiXQYdtj5",
      "execution_count": null,
      "outputs": []
    },
    {
      "cell_type": "code",
      "source": [
        "#Analyse the training metrics sorted by descending Training Accuracy\n",
        "pd.DataFrame.from_dict(Train_Fold_outs).sort_values(by=['Training Accuracy:'],ascending = False)"
      ],
      "metadata": {
        "id": "eaYoKtjjfO4q"
      },
      "id": "eaYoKtjjfO4q",
      "execution_count": null,
      "outputs": []
    },
    {
      "cell_type": "code",
      "source": [
        "#Analyse the testing metrics sorted by descending Testing Accuracy\n",
        "pd.DataFrame.from_dict(Test_Fold_outs).sort_values(by=['Testing Accuracy:'],ascending = False)"
      ],
      "metadata": {
        "id": "q-N-_YJffRed"
      },
      "id": "q-N-_YJffRed",
      "execution_count": null,
      "outputs": []
    },
    {
      "cell_type": "code",
      "source": [
        "#View the best parameters\n",
        "pd.DataFrame.from_dict(Best_params)"
      ],
      "metadata": {
        "id": "MfyssdIifkhh"
      },
      "id": "MfyssdIifkhh",
      "execution_count": null,
      "outputs": []
    },
    {
      "cell_type": "code",
      "source": [
        "#View length of the features selected for the top performing/most stable (selected) model (1st here)\n",
        "len(features[1])"
      ],
      "metadata": {
        "id": "mcVISXs8fpyi"
      },
      "id": "mcVISXs8fpyi",
      "execution_count": null,
      "outputs": []
    },
    {
      "cell_type": "code",
      "source": [
        "#Save the feature names\n",
        "pd.DataFrame(features[1]).to_csv('/home/vishakhag/Projects/Metabokiller_Revision/Anti-Proliferation/HPTuning_RF/anti_prol_features_rf.csv',index=False)"
      ],
      "metadata": {
        "id": "vZg6bqzaf5x0"
      },
      "id": "vZg6bqzaf5x0",
      "execution_count": null,
      "outputs": []
    },
    {
      "cell_type": "code",
      "source": [
        "#save the best parameters of the chosen model\n",
        "with open('/home/vishakhag/Projects/Metabokiller_Revision/Anti-Proliferation/HPTuning_RF/anti_prol_best_params_RF.csv', 'w') as f:  # You will need 'wb' mode in Python 2.x\n",
        "    w = csv.DictWriter(f, Best_params[1].keys())\n",
        "    w.writeheader()\n",
        "    w.writerow(Best_params[1])"
      ],
      "metadata": {
        "id": "Hcg_jl3xf8NC"
      },
      "id": "Hcg_jl3xf8NC",
      "execution_count": null,
      "outputs": []
    },
    {
      "cell_type": "markdown",
      "source": [
        "# 20 Fold Boosting\n"
      ],
      "metadata": {
        "id": "APvpfxQ1gPpp"
      },
      "id": "APvpfxQ1gPpp"
    },
    {
      "cell_type": "code",
      "source": [
        "#Randomly split the data into testing and validation for each fold\n",
        "def Test_valid_split(Set3,frac,seed):\n",
        "    Fraction=frac\n",
        "    Test=Set3[Set3['status']==1].sample(frac = Fraction,random_state=1).append(Set3[Set3['status']==0].sample(frac = Fraction,random_state=seed))\n",
        "    Valid_index=[item for item in list(Set3.index) if item not in list(Test.index)]\n",
        "    Valid=Set3.T[Valid_index].T\n",
        "    print('Test set size:',len(Test),'\\nValid set size:',len(Valid))\n",
        "    return Test,Valid"
      ],
      "metadata": {
        "id": "ofzgTQgNgTeK"
      },
      "id": "ofzgTQgNgTeK",
      "execution_count": null,
      "outputs": []
    },
    {
      "cell_type": "code",
      "source": [
        "f_list=features[1] #feature list of the selected (hyperparameter tuned) model\n",
        "Train_Fold_outs_1=[]\n",
        "Test_Fold_outs_1=[]\n",
        "models_1=[]\n",
        "\n",
        "for i in range(20):\n",
        "    print('Fold #',i)\n",
        "    \n",
        "    #Train-test split randomly\n",
        "    Trn,Tst = Test_valid_split(Data,0.90,i)\n",
        "    Train_y, Test_y = Trn['status'],Tst['status']\n",
        "\n",
        "    #Use selected feature list\n",
        "    Train_x = Trn[f_list]\n",
        "    Test_x = Tst[f_list]\n",
        "    \n",
        "    x_train_filtered = Train_x.values\n",
        "    x_test_filtered = Test_x.values\n",
        "    y_train_filtered = Train_y.values.ravel()\n",
        "    y_test_filtered = Test_y.values.ravel()\n",
        "    \n",
        "    #Upsampling\n",
        "    Final_Xtrain,Final_Ytrain = Smote(Train_x,Train_y,0.5,'Upsamlped')\n",
        "    \n",
        "    Final_Ytrain=Final_Ytrain.values.ravel()\n",
        "    Final_Xtrain = pd.DataFrame(Final_Xtrain, dtype = np.float64)\n",
        "    x_test_filtered = pd.DataFrame(x_test_filtered, dtype = np.float64)\n",
        "\n",
        "    #Use the best parameters from the chosen model here\n",
        "    rf = RandomForestClassifier(bootstrap= True,\n",
        "                                ccp_alpha= 0.0,\n",
        "                                class_weight= None,\n",
        "                                criterion= 'gini',\n",
        "                                max_depth= 80,\n",
        "                                max_features= 'auto',\n",
        "                                max_leaf_nodes= None,\n",
        "                                max_samples= None,\n",
        "                                min_impurity_decrease= 0.0,\n",
        "                                min_samples_leaf= 1,\n",
        "                                min_samples_split= 10,\n",
        "                                min_weight_fraction_leaf= 0.0,\n",
        "                                n_estimators= 45,\n",
        "                                n_jobs= None,\n",
        "                                oob_score= False,\n",
        "                                random_state= None,\n",
        "                                verbose= 0,\n",
        "                                warm_start= False)\n",
        "    \n",
        "    #Fit the model\n",
        "    rf.fit(Final_Xtrain,Final_Ytrain)\n",
        "    models_1.append(rf)\n",
        "    \n",
        "    #Training prediction and saving the metrics\n",
        "    y_train_pred=rf.predict(Final_Xtrain)\n",
        "    y_train_prob=rf.predict_proba(Final_Xtrain)\n",
        "    Train_Fold_outs_1.append(Scoring_metrices(y_train_pred,y_train_prob[:,1],Final_Ytrain,'Training'))\n",
        "\n",
        "    #Testing prediction and saving the metrics\n",
        "    y_test_pred=rf.predict(x_test_filtered) \n",
        "    y_test_prob=rf.predict_proba(x_test_filtered)\n",
        "    Test_Fold_outs_1.append(Scoring_metrices(y_test_pred,y_test_prob[:,1],y_test_filtered.astype('int'),'Testing'))"
      ],
      "metadata": {
        "id": "9kCFAxwDglOj"
      },
      "id": "9kCFAxwDglOj",
      "execution_count": null,
      "outputs": []
    },
    {
      "cell_type": "code",
      "source": [
        "#To visualize the stability of the tuned model with each fold\n",
        "(pd.DataFrame(Test_Fold_outs_1)).boxplot(grid=False,rot=45)"
      ],
      "metadata": {
        "id": "WpdmwcpohQDU"
      },
      "id": "WpdmwcpohQDU",
      "execution_count": null,
      "outputs": []
    },
    {
      "cell_type": "code",
      "source": [
        "#To visualize the stability of the tuned model with each fold\n",
        "(pd.DataFrame(Train_Fold_outs_1)).boxplot(grid=False,rot=45)"
      ],
      "metadata": {
        "id": "Ka8pTMZ7hSmz"
      },
      "id": "Ka8pTMZ7hSmz",
      "execution_count": null,
      "outputs": []
    },
    {
      "cell_type": "code",
      "source": [
        "pd.DataFrame(Test_Fold_outs_1)"
      ],
      "metadata": {
        "id": "MXsGWZKKhgZh"
      },
      "id": "MXsGWZKKhgZh",
      "execution_count": null,
      "outputs": []
    },
    {
      "cell_type": "code",
      "source": [
        "pd.DataFrame(Train_Fold_outs_1)"
      ],
      "metadata": {
        "id": "J953l0lwhiEx"
      },
      "id": "J953l0lwhiEx",
      "execution_count": null,
      "outputs": []
    },
    {
      "cell_type": "markdown",
      "source": [
        "# Training on Whole Data "
      ],
      "metadata": {
        "id": "uq8EnV6XhpB5"
      },
      "id": "uq8EnV6XhpB5"
    },
    {
      "cell_type": "code",
      "source": [
        "TRAIN = Data.drop(['smiles','status'],axis=1)\n",
        "TRAIN"
      ],
      "metadata": {
        "id": "xEgGRKAmhukU"
      },
      "id": "xEgGRKAmhukU",
      "execution_count": null,
      "outputs": []
    },
    {
      "cell_type": "code",
      "source": [
        "TRAIN = TRAIN[features[1]] #Use features of the selected (hyperparameter tuned) model here\n",
        "TRAIN"
      ],
      "metadata": {
        "id": "EeYSukBVhwaT"
      },
      "id": "EeYSukBVhwaT",
      "execution_count": null,
      "outputs": []
    },
    {
      "cell_type": "code",
      "source": [
        "Y = Data['status']"
      ],
      "metadata": {
        "id": "1hoSYdQ9h7Dj"
      },
      "id": "1hoSYdQ9h7Dj",
      "execution_count": null,
      "outputs": []
    },
    {
      "cell_type": "code",
      "source": [
        "#Fitting the model on whole data\n",
        "fitted = models[1].fit(TRAIN,Y)\n",
        "fitted"
      ],
      "metadata": {
        "id": "2m14LAf8h_o9"
      },
      "id": "2m14LAf8h_o9",
      "execution_count": null,
      "outputs": []
    },
    {
      "cell_type": "code",
      "source": [
        "#Save the final model\n",
        "joblib.dump(fitted, '/home/vishakhag/Projects/Metabokiller_Revision/Anti-Proliferation/HPTuning_RF/HOLY_anti_prol_model_rf.pkl')"
      ],
      "metadata": {
        "id": "Uhi5NX3RjgKc"
      },
      "id": "Uhi5NX3RjgKc",
      "execution_count": null,
      "outputs": []
    },
    {
      "cell_type": "markdown",
      "source": [
        "# Testing on external validation (Set3)"
      ],
      "metadata": {
        "id": "c9FHQltjiLFT"
      },
      "id": "c9FHQltjiLFT"
    },
    {
      "cell_type": "markdown",
      "source": [
        "## Load Data"
      ],
      "metadata": {
        "id": "VvHn4RISiQRS"
      },
      "id": "VvHn4RISiQRS"
    },
    {
      "cell_type": "code",
      "source": [
        "def get_labels(pred_test): #Getting discrete labels from probability values    \n",
        "        test_pred = []        \n",
        "        for i in range(pred_test.shape[0]):\n",
        "            if(pred_test[i][0]>pred_test[i][1]):\n",
        "                test_pred.append(0)\n",
        "            else:\n",
        "                test_pred.append(1)\n",
        "        return test_pred"
      ],
      "metadata": {
        "id": "xy7tB6r1i-IU"
      },
      "id": "xy7tB6r1i-IU",
      "execution_count": null,
      "outputs": []
    },
    {
      "cell_type": "code",
      "source": [
        "set3_sign = pd.read_csv('/home/vishakhag/Projects/Metabokiller_Revision/Carcinogen_Sets/Signaturizer_Set3_preprocessed.csv')\n",
        "set3_sign"
      ],
      "metadata": {
        "id": "JbKoIEfEiOjy"
      },
      "id": "JbKoIEfEiOjy",
      "execution_count": null,
      "outputs": []
    },
    {
      "cell_type": "code",
      "source": [
        "X_Test = set3_sign[features[1]]  #Use features of the selected (hyperparameter tuned) model here\n",
        "X_Test"
      ],
      "metadata": {
        "id": "gY1WElEgiDOB"
      },
      "id": "gY1WElEgiDOB",
      "execution_count": null,
      "outputs": []
    },
    {
      "cell_type": "code",
      "source": [
        "Y_Test = set3_sign['status']"
      ],
      "metadata": {
        "id": "DLOY7B77ijZW"
      },
      "id": "DLOY7B77ijZW",
      "execution_count": null,
      "outputs": []
    },
    {
      "cell_type": "code",
      "source": [
        "# Confirm if there are null values, run handle_missing_values if any.\n",
        "X_Test.isnull().values.any()"
      ],
      "metadata": {
        "id": "MYBizVuDiX9b"
      },
      "id": "MYBizVuDiX9b",
      "execution_count": null,
      "outputs": []
    },
    {
      "cell_type": "code",
      "source": [
        "# Prediction using fitted (on whole data) model\n",
        "Y_TEST_PRED = get_labels(Y_TEST_PROB)\n",
        "Y_TEST_PROB = (fitted).predict_proba(X_Test)"
      ],
      "metadata": {
        "id": "zC90VKwyihVJ"
      },
      "id": "zC90VKwyihVJ",
      "execution_count": null,
      "outputs": []
    },
    {
      "cell_type": "code",
      "source": [
        "Scoring_metrices(Y_TEST_PRED,Y_TEST_PROB[:,1],Y_Test,'Valid')"
      ],
      "metadata": {
        "id": "_02SUINXinhL"
      },
      "id": "_02SUINXinhL",
      "execution_count": null,
      "outputs": []
    },
    {
      "cell_type": "code",
      "source": [
        "print(classification_report(Y_TEST_PRED,Y_Test))"
      ],
      "metadata": {
        "id": "8o3syytgipS7"
      },
      "id": "8o3syytgipS7",
      "execution_count": null,
      "outputs": []
    },
    {
      "cell_type": "markdown",
      "source": [
        "## Save the final predictions"
      ],
      "metadata": {
        "id": "Qg16v5vNjLyS"
      },
      "id": "Qg16v5vNjLyS"
    },
    {
      "cell_type": "code",
      "source": [
        "predictions = pd.DataFrame(columns = [\"Proliferation_0\",\"Proliferation_1\",\"Proliferation_Preds\"])"
      ],
      "metadata": {
        "id": "eI84W7aPjLXi"
      },
      "id": "eI84W7aPjLXi",
      "execution_count": null,
      "outputs": []
    },
    {
      "cell_type": "code",
      "source": [
        "predictions"
      ],
      "metadata": {
        "id": "VOzNnrqUjRLU"
      },
      "id": "VOzNnrqUjRLU",
      "execution_count": null,
      "outputs": []
    },
    {
      "cell_type": "code",
      "source": [
        "predictions['Proliferation_Preds'] = Y_TEST_PRED"
      ],
      "metadata": {
        "id": "BB4mTO9NjWl6"
      },
      "id": "BB4mTO9NjWl6",
      "execution_count": null,
      "outputs": []
    },
    {
      "cell_type": "code",
      "source": [
        "predictions['Proliferation_1'] = Y_TEST_PROB[:,1]"
      ],
      "metadata": {
        "id": "pfYfpw2yjXum"
      },
      "id": "pfYfpw2yjXum",
      "execution_count": null,
      "outputs": []
    },
    {
      "cell_type": "code",
      "source": [
        "predictions['Proliferation_0'] = Y_TEST_PROB[:,0]"
      ],
      "metadata": {
        "id": "YhbYMprWjZjA"
      },
      "id": "YhbYMprWjZjA",
      "execution_count": null,
      "outputs": []
    },
    {
      "cell_type": "code",
      "source": [
        "predictions"
      ],
      "metadata": {
        "id": "x0o-sSt5jaKi"
      },
      "id": "x0o-sSt5jaKi",
      "execution_count": null,
      "outputs": []
    },
    {
      "cell_type": "code",
      "source": [
        "predictions.to_csv('/home/vishakhag/Projects/Metabokiller_Revision/Anti-Proliferation/HPTuning_RF/proliferations_predictions_rf.csv',index=False)"
      ],
      "metadata": {
        "id": "TCdpLqFBjbHk"
      },
      "id": "TCdpLqFBjbHk",
      "execution_count": null,
      "outputs": []
    }
  ],
  "metadata": {
    "kernelspec": {
      "display_name": "metabokiller",
      "language": "python",
      "name": "metabokiller"
    },
    "language_info": {
      "codemirror_mode": {
        "name": "ipython",
        "version": 3
      },
      "file_extension": ".py",
      "mimetype": "text/x-python",
      "name": "python",
      "nbconvert_exporter": "python",
      "pygments_lexer": "ipython3",
      "version": "3.9.7"
    },
    "colab": {
      "name": "Holy_Grail_ Final_ML_Pipeline.ipynb",
      "provenance": [],
      "collapsed_sections": [
        "nAY0TspmH_jF",
        "b8f4e6a8",
        "2e38e010",
        "35594318",
        "6be52c6c",
        "c813a6e8",
        "5b4e8490",
        "t_tsSVtVSPvd",
        "9tkIZaybS7nb",
        "f5972e81",
        "3fb40042",
        "b54b3440",
        "4ed7d2ff",
        "8663d0d1",
        "2f42ddd2",
        "c555a6ca",
        "1ba5a9c6",
        "c8203f89",
        "6728ded4",
        "de2847cf",
        "37927907",
        "KbJwiTNjTurj",
        "G8jgjEFRTy6Y",
        "ckWt3r4AUajx",
        "hC7EjHz1H-Vb",
        "01IdyR6kU7xu",
        "iRR1vyM8VALg",
        "TDBMtSCXVJhh",
        "482llwqFXTwZ",
        "TlxtQ6UQGmAS",
        "EU_t91VeXaMI",
        "KRGy060OYC5b",
        "BAxEJz9sZ5NJ",
        "ynfEpHyCZ9kp",
        "Ue3oAch1cOlx",
        "J026ZL7Bcz7x",
        "VzFDOLM-c6VT",
        "lGSVfSxJdCnp",
        "mai1HWTZdGMZ",
        "-dudwC7DdJLy",
        "8jJh7r2Kdm9P",
        "APvpfxQ1gPpp",
        "uq8EnV6XhpB5",
        "c9FHQltjiLFT",
        "VvHn4RISiQRS",
        "Qg16v5vNjLyS"
      ]
    }
  },
  "nbformat": 4,
  "nbformat_minor": 5
}
