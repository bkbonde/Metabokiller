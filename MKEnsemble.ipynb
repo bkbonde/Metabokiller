{
 "cells": [
  {
   "cell_type": "code",
   "execution_count": 1,
   "metadata": {},
   "outputs": [],
   "source": [
    "from signaturizer import Signaturizer\n",
    "import os\n",
    "import pandas as pd\n",
    "import numpy as np\n",
    "from tqdm import tqdm\n",
    "import joblib\n",
    "from importlib import resources\n",
    "from lime.lime_tabular import LimeTabularExplainer\n",
    "import matplotlib.backends.backend_pdf\n",
    "from matplotlib import pyplot as plt\n",
    "import io\n",
    "from matplotlib.backends.backend_pdf import PdfPages\n",
    "from matplotlib import pyplot as plt\n",
    "import warnings\n",
    "warnings.filterwarnings('ignore', '.*X does not have valid feature names*', )\n",
    "warnings.filterwarnings('ignore', '.*signatures are NaN*', )\n",
    "warnings.filterwarnings('ignore', '.*tensorflow:6*', )"
   ]
  },
  {
   "cell_type": "code",
   "execution_count": 2,
   "metadata": {},
   "outputs": [],
   "source": [
    "FROM='models/'"
   ]
  },
  {
   "cell_type": "code",
   "execution_count": 3,
   "metadata": {},
   "outputs": [],
   "source": [
    "def Feature_Signaturizer(dat):\n",
    "    sig_df=pd.DataFrame()\n",
    "    desc=['A','B','C','D','E']\n",
    "    for dsc in tqdm(desc):\n",
    "        for i in range(1,6):\n",
    "            sign = Signaturizer(dsc+str(i),)\n",
    "            results = sign.predict(dat)\n",
    "            df=pd.DataFrame(results.signature)\n",
    "            for clm in list(df.columns):\n",
    "                df=df.rename(columns={clm:dsc+str(i)+'_'+str(clm)})\n",
    "            sig_df=pd.concat([sig_df,df],axis = 1)\n",
    "    sig_df = handle_missing_values(sig_df)\n",
    "    res = pd.DataFrame()\n",
    "    res['smiles'] = dat\n",
    "    res = pd.concat([res,sig_df],axis = 1)\n",
    "    return res\n",
    "def handle_missing_values(data):\n",
    "    print('Handlling Missing values')\n",
    "    data = data.replace([np.inf, -np.inf, \"\", \" \"], np.nan)\n",
    "    data = data.replace([\"\", \" \"], np.nan)\n",
    "    for i in data.columns:\n",
    "        data[i] = data[i].fillna(data[i].mean())\n",
    "    return data"
   ]
  },
  {
   "cell_type": "code",
   "execution_count": 4,
   "metadata": {
    "id": "c1vm5Xr3TTcp"
   },
   "outputs": [],
   "source": [
    "class model_epigenetic:\n",
    "    def __init__(self,test):        \n",
    "        self.test = test\n",
    "    def extract_feature(self,data):        \n",
    "        F_names=pd.read_csv(FROM+'features/Epigenetics_features.csv')\n",
    "        features=F_names.iloc[:,0].tolist()\n",
    "        return data[features]\n",
    "    def get_labels(self,pred_test): #Getting discrete labels from probability values    \n",
    "        test_pred = []        \n",
    "        for i in range(pred_test.shape[0]):\n",
    "            if(pred_test[i][0]>pred_test[i][1]):\n",
    "                test_pred.append(0)\n",
    "            else:\n",
    "                test_pred.append(1)\n",
    "        return test_pred \n",
    "       \n",
    "    def test_model(self):\n",
    "        test = self.test\n",
    "        test_filtered = self.extract_feature(test.drop(['smiles'],axis=1))\n",
    "        model = joblib.load(FROM+'models/Epigenetic_svm.pkl')\n",
    "        probs = model.predict_proba(test_filtered)    \n",
    "        preds = self.get_labels(probs)\n",
    "        return probs,preds"
   ]
  },
  {
   "cell_type": "code",
   "execution_count": 5,
   "metadata": {
    "id": "V2_dta5YTur0"
   },
   "outputs": [],
   "source": [
    "class model_apoptosis:\n",
    "    def __init__(self,test):        \n",
    "        self.test = test\n",
    "    def extract_feature(self,data):        \n",
    "        F_names=pd.read_csv(FROM+'features/Apoptosis_features.csv')\n",
    "        features=F_names.iloc[:,0].tolist()\n",
    "        return data[features]\n",
    "    def get_labels(self,pred_test): #Getting discrete labels from probability values    \n",
    "        test_pred = []        \n",
    "        for i in range(pred_test.shape[0]):\n",
    "            if(pred_test[i][0]>pred_test[i][1]):\n",
    "                test_pred.append(0)\n",
    "            else:\n",
    "                test_pred.append(1)\n",
    "        return test_pred \n",
    "       \n",
    "    def test_model(self):\n",
    "        test = self.test\n",
    "        test_filtered = self.extract_feature(test.drop(['smiles'],axis=1))\n",
    "        model = joblib.load(FROM+'models/Apoptosis_KNN.sav')\n",
    "        probs = model.predict_proba(test_filtered)    \n",
    "        preds = self.get_labels(probs)\n",
    "        return probs,preds"
   ]
  },
  {
   "cell_type": "code",
   "execution_count": 6,
   "metadata": {
    "id": "BHgEkgg2UKA7"
   },
   "outputs": [],
   "source": [
    "class model_oxidative:\n",
    "    def __init__(self,test):        \n",
    "        self.test = test\n",
    "    def extract_feature(self,data):        \n",
    "        F_names=pd.read_csv(FROM+'features/Oxidative_features.csv')\n",
    "        features=F_names.iloc[:,0].tolist()\n",
    "        return data[features]\n",
    "    def get_labels(self,pred_test): #Getting discrete labels from probability values    \n",
    "        test_pred = []        \n",
    "        for i in range(pred_test.shape[0]):\n",
    "            if(pred_test[i][0]>pred_test[i][1]):\n",
    "                test_pred.append(0)\n",
    "            else:\n",
    "                test_pred.append(1)\n",
    "        return test_pred \n",
    "       \n",
    "    def test_model(self):\n",
    "        test = self.test\n",
    "        test_filtered = self.extract_feature(test.drop(['smiles'],axis=1))\n",
    "        model = joblib.load(FROM+'models/Oxidative_mlp.pkl')\n",
    "        probs = model.predict_proba(test_filtered)    \n",
    "        preds = self.get_labels(probs)\n",
    "        return probs,preds"
   ]
  },
  {
   "cell_type": "code",
   "execution_count": 7,
   "metadata": {
    "id": "RwuqYGbaVlQE"
   },
   "outputs": [],
   "source": [
    "class model_ginstability:\n",
    "    def __init__(self,test):        \n",
    "        self.test = test\n",
    "    def extract_feature(self,data):        \n",
    "        F_names=pd.read_csv(FROM+'features/Genomic_Instability_features.csv')\n",
    "        features=F_names.iloc[:,0].tolist()\n",
    "        return data[features]\n",
    "    def get_labels(self,pred_test): #Getting discrete labels from probability values    \n",
    "        test_pred = []        \n",
    "        for i in range(pred_test.shape[0]):\n",
    "            if(pred_test[i][0]>pred_test[i][1]):\n",
    "                test_pred.append(0)\n",
    "            else:\n",
    "                test_pred.append(1)\n",
    "        return test_pred \n",
    "       \n",
    "    def test_model(self):\n",
    "        test = self.test\n",
    "        test_filtered = self.extract_feature(test.drop(['smiles'],axis=1))\n",
    "        model = joblib.load(FROM+'models/Genomic_Instabilty_RF.sav')\n",
    "        probs = model.predict_proba(test_filtered)    \n",
    "        preds = self.get_labels(probs)\n",
    "        return probs,preds"
   ]
  },
  {
   "cell_type": "code",
   "execution_count": 8,
   "metadata": {
    "id": "TQgDz_rmXeWl"
   },
   "outputs": [],
   "source": [
    "class model_proliferation:\n",
    "    def __init__(self,test):        \n",
    "        self.test = test\n",
    "    def extract_feature(self,data):        \n",
    "        F_names=pd.read_csv(FROM+'features/Proliferation_features.csv')\n",
    "        features=F_names.iloc[:,0].tolist()\n",
    "        return data[features]\n",
    "    def get_labels(self,pred_test): #Getting discrete labels from probability values    \n",
    "        test_pred = []        \n",
    "        for i in range(pred_test.shape[0]):\n",
    "            if(pred_test[i][0]>pred_test[i][1]):\n",
    "                test_pred.append(0)\n",
    "            else:\n",
    "                test_pred.append(1)\n",
    "        return test_pred \n",
    "       \n",
    "    def test_model(self):\n",
    "        test = self.test\n",
    "        test_filtered = self.extract_feature(test.drop(['smiles'],axis=1))\n",
    "        model = joblib.load(FROM+'models/Proliferation_RF.pkl')\n",
    "        probs = model.predict_proba(test_filtered)    \n",
    "        preds = self.get_labels(probs)\n",
    "        return probs,preds"
   ]
  },
  {
   "cell_type": "code",
   "execution_count": 9,
   "metadata": {
    "id": "aE6UlktHXiI3"
   },
   "outputs": [],
   "source": [
    "class model_electrophile:\n",
    "    def __init__(self,test):        \n",
    "        self.test = test\n",
    "    def extract_feature(self,data):        \n",
    "        F_names=pd.read_csv(FROM+'features/Electrophile_features.csv')\n",
    "        features=F_names.iloc[:,0].tolist()\n",
    "        return data[features]\n",
    "    def get_labels(self,pred_test): #Getting discrete labels from probability values    \n",
    "        test_pred = []        \n",
    "        for i in range(pred_test.shape[0]):\n",
    "            if(pred_test[i][0]>pred_test[i][1]):\n",
    "                test_pred.append(0)\n",
    "            else:\n",
    "                test_pred.append(1)\n",
    "        return test_pred \n",
    "       \n",
    "    def test_model(self):\n",
    "        test = self.test\n",
    "        test_filtered = self.extract_feature(test.drop(['smiles'],axis=1))\n",
    "        model = joblib.load(FROM+'models/Electrophile_MLP.pkl')\n",
    "        probs = model.predict_proba(test_filtered)    \n",
    "        preds = self.get_labels(probs)\n",
    "        return probs,preds"
   ]
  },
  {
   "cell_type": "code",
   "execution_count": 11,
   "metadata": {},
   "outputs": [],
   "source": [
    "class model_ensemble:\n",
    "    def __init__(self,test,exp):        \n",
    "        self.test = test\n",
    "        self.exp = exp\n",
    "    def extract_feature(self,data):        \n",
    "        data=data.rename(columns={'GInstability_1':'GI','Apoptosis_1':'Apo','Electrophile_1':'Elec','Proliferation_1':'Prf','Oxidative_1':'Oxd','Epigenetics_1':'Epig'})\n",
    "        return data.apply(pd.to_numeric)\n",
    "    def get_labels(self,pred_test): #Getting discrete labels from probability values    \n",
    "        test_pred = []        \n",
    "        for i in range(pred_test.shape[0]):\n",
    "            if(pred_test[i][0]>pred_test[i][1]):\n",
    "                test_pred.append(0)\n",
    "            else:\n",
    "                test_pred.append(1)\n",
    "        return test_pred \n",
    "    def explainibility(self,testdata,smi_list,mdl_id):\n",
    "        pdf = []\n",
    "        for r in range(len(mdl_id)):\n",
    "            if mdl_id[r] == 'Unresolved':\n",
    "                continue\n",
    "            else:\n",
    "                ID = mdl_id[r].split('_')[0].split('l')[-1]\n",
    "                traindata = pd.read_csv(FROM+'features/ensemble/Ensemble-model_KFold'+ID+'train-data.csv')\n",
    "                model_ensemble = joblib.load(FROM+'models/ensemble/Ensmb_GBC_KFold'+ID+'.sav')\n",
    "                explainer = LimeTabularExplainer(np.array(traindata),mode='classification', feature_names=traindata.columns)\n",
    "                explanation = explainer.explain_instance(testdata.values[r], model_ensemble.predict_proba)\n",
    "                fig=explanation.as_pyplot_figure(label=1) \n",
    "                fig.suptitle(smi_list[r],fontweight =\"bold\",fontsize=8,ha=\"center\",va='top')\n",
    "                matplotlib.figure.Figure.set_figwidth(fig,15,forward=True)\n",
    "                pdf.append(fig)\n",
    "        return pdf\n",
    "    def Voting(self,Rs):\n",
    "        Epred=[]\n",
    "        Eprob1=[]\n",
    "        Eprob0=[]\n",
    "        Best_mdl=[]\n",
    "        Val1=Rs.filter(regex='_pred$').apply(lambda row: row[row == 1].index, axis=1)\n",
    "        Val0=Rs.filter(regex='_pred$').apply(lambda row: row[row == 0].index, axis=1)\n",
    "        for r in range(len(Rs)):\n",
    "            if len(Val1[r])>len(Val0[r]):\n",
    "                Epred.append(1)\n",
    "                support_1=[]\n",
    "                support_0=[]\n",
    "                for c in Val1[r]:\n",
    "                    c=c.split('_')[0]\n",
    "                    support_1.append(c+'_1')\n",
    "                    support_0.append(c+'_0')\n",
    "                Eprob1.append(Rs[support_1].iloc[r].mean())\n",
    "                Eprob0.append(Rs[support_0].iloc[r].mean())\n",
    "                Best_mdl.append(Rs[support_1].iloc[r].sort_values(ascending=False).index[0])\n",
    "            elif len(Val1[r])<len(Val0[r]):\n",
    "                Epred.append(0)\n",
    "                support_1=[]\n",
    "                support_0=[]\n",
    "                for c in Val0[r]:\n",
    "                    c=c.split('_')[0]\n",
    "                    support_1.append(c+'_1')\n",
    "                    support_0.append(c+'_0')\n",
    "                Eprob1.append(Rs[support_1].iloc[r].mean())\n",
    "                Eprob0.append(Rs[support_0].iloc[r].mean())\n",
    "                Best_mdl.append(Rs[support_1].iloc[r].sort_values(ascending=True).index[0])\n",
    "            else:\n",
    "                Epred.append('Unresolved')\n",
    "                Eprob1.append('Unresolved')\n",
    "                Eprob0.append('Unresolved')\n",
    "                Best_mdl.append('Unresolved')\n",
    "        return pd.DataFrame({'Ensemble_0':Eprob0,'Ensemble_1':Eprob1,'Ensemble_preds':Epred}),Best_mdl\n",
    "\n",
    "    def test_model(self):\n",
    "        test = self.test\n",
    "        exp = self.exp\n",
    "        test_filtered = self.extract_feature(test.filter(regex='_1$'))\n",
    "        Ensmbl=pd.DataFrame()\n",
    "        for m in range(20):\n",
    "            model = joblib.load(FROM+'models/ensemble/Ensmb_GBC_KFold'+str(m)+'.sav')\n",
    "            probs = model.predict_proba(test_filtered)    \n",
    "            preds = self.get_labels(probs)\n",
    "            Ensmbl['Model'+str(m)+'_0']=probs[:,0]\n",
    "            Ensmbl['Model'+str(m)+'_1']=probs[:,1]\n",
    "            Ensmbl['Model'+str(m)+'_pred']=preds\n",
    "        out,LM_mdls=self.Voting(Ensmbl)\n",
    "        if exp == True:\n",
    "            exp_fig = self.explainibility(test_filtered,test['smiles'],LM_mdls)\n",
    "            return out,exp_fig\n",
    "        else:\n",
    "            return out\n",
    "\n",
    "\n"
   ]
  },
  {
   "cell_type": "code",
   "execution_count": 12,
   "metadata": {
    "id": "WvxgLcAHXiDK"
   },
   "outputs": [],
   "source": [
    "def Individual_predictions(Sig_data,exp):   \n",
    "    predictions = pd.DataFrame(columns=['smiles','Epigenetics_0','Epigenetics_1','Epigenetics_preds',\n",
    "    'Oxidative_0','Oxidative_1','Oxidative_preds','GInstability_0','GInstability_1','GInstability_preds',\n",
    "    'Apoptosis_0','Apoptosis_1','Apoptosis_preds','Proliferation_0','Proliferation_1','Proliferation_preds',\n",
    "    'Electrophile_0','Electrophile_1','Electrophile_preds'])\n",
    "    predictions['smiles'] = Sig_data['smiles']\n",
    "    m1 = model_epigenetic(Sig_data)\n",
    "    m2 = model_oxidative(Sig_data)\n",
    "    m3 = model_ginstability(Sig_data)\n",
    "    m4 = model_electrophile(Sig_data)\n",
    "    m5 = model_proliferation(Sig_data)   \n",
    "    m6 = model_apoptosis(Sig_data)   \n",
    "    probs,preds = m1.test_model()\n",
    "    predictions['Epigenetics_0'] = probs[:,0]\n",
    "    predictions['Epigenetics_1'] = probs[:,1]\n",
    "    predictions['Epigenetics_preds'] = preds    \n",
    "    probs,preds = m2.test_model()\n",
    "    predictions['Oxidative_0'] = probs[:,0]\n",
    "    predictions['Oxidative_1'] = probs[:,1]\n",
    "    predictions['Oxidative_preds'] = preds    \n",
    "    probs,preds = m3.test_model()    \n",
    "    predictions['GInstability_0'] = probs[:,0]\n",
    "    predictions['GInstability_1'] = probs[:,1]\n",
    "    predictions['GInstability_preds'] = preds    \n",
    "    probs,preds = m5.test_model()    \n",
    "    predictions['Proliferation_0'] = probs[:,0]\n",
    "    predictions['Proliferation_1'] = probs[:,1]\n",
    "    predictions['Proliferation_preds'] = preds      \n",
    "    probs,preds = m6.test_model()\n",
    "    predictions['Apoptosis_0'] = probs[:,0]\n",
    "    predictions['Apoptosis_1'] = probs[:,1]\n",
    "    predictions['Apoptosis_preds'] = preds        \n",
    "    probs,preds = m4.test_model() \n",
    "    predictions['Electrophile_0'] = probs[:,0]\n",
    "    predictions['Electrophile_1'] = probs[:,1]\n",
    "    predictions['Electrophile_preds'] = preds\n",
    "    print('Compiling the results !!')\n",
    "    m7 = model_ensemble(predictions,exp)\n",
    "    if exp == True:\n",
    "        votout , figures = m7.test_model() \n",
    "        predictions['Ensemble_0'] = votout['Ensemble_0']\n",
    "        predictions['Ensemble_1'] = votout['Ensemble_1']\n",
    "        predictions['Ensemble_preds'] = votout['Ensemble_preds']\n",
    "        return predictions,figures\n",
    "    else:\n",
    "        votout = m7.test_model() \n",
    "        predictions['Ensemble_0'] = votout['Ensemble_0']\n",
    "        predictions['Ensemble_1'] = votout['Ensemble_1']\n",
    "        predictions['Ensemble_preds'] = votout['Ensemble_preds']\n",
    "        return predictions\n",
    "    "
   ]
  },
  {
   "cell_type": "code",
   "execution_count": 13,
   "metadata": {
    "id": "sDvy5VZrXh_u"
   },
   "outputs": [],
   "source": [
    "def Ensemble_mk(smi_list,explainability=False):\n",
    "    print('Performing Descriptor calculations')\n",
    "    Feature_data = pd.DataFrame()\n",
    "    Feature_data['smiles'] = smi_list\n",
    "    Sig_Carcin=Feature_Signaturizer(smi_list)\n",
    "    if explainability == True:\n",
    "        Final_out,exp_figures =Individual_predictions(Sig_Carcin,True)\n",
    "        return Final_out,exp_figures\n",
    "    else:\n",
    "        Final_out = Individual_predictions(Sig_Carcin,False)\n",
    "        return Final_out"
   ]
  },
  {
   "cell_type": "code",
   "execution_count": 17,
   "metadata": {},
   "outputs": [
    {
     "name": "stdout",
     "output_type": "stream",
     "text": [
      "Performing Descriptor calculations\n"
     ]
    },
    {
     "name": "stderr",
     "output_type": "stream",
     "text": [
      "100%|██████████| 5/5 [00:27<00:00,  5.55s/it]\n"
     ]
    },
    {
     "name": "stdout",
     "output_type": "stream",
     "text": [
      "Handlling Missing values\n",
      "Compiling the results !!\n"
     ]
    },
    {
     "data": {
      "text/html": [
       "<div>\n",
       "<style scoped>\n",
       "    .dataframe tbody tr th:only-of-type {\n",
       "        vertical-align: middle;\n",
       "    }\n",
       "\n",
       "    .dataframe tbody tr th {\n",
       "        vertical-align: top;\n",
       "    }\n",
       "\n",
       "    .dataframe thead th {\n",
       "        text-align: right;\n",
       "    }\n",
       "</style>\n",
       "<table border=\"1\" class=\"dataframe\">\n",
       "  <thead>\n",
       "    <tr style=\"text-align: right;\">\n",
       "      <th></th>\n",
       "      <th>smiles</th>\n",
       "      <th>Epigenetics_0</th>\n",
       "      <th>Epigenetics_1</th>\n",
       "      <th>Epigenetics_preds</th>\n",
       "      <th>Oxidative_0</th>\n",
       "      <th>Oxidative_1</th>\n",
       "      <th>Oxidative_preds</th>\n",
       "      <th>GInstability_0</th>\n",
       "      <th>GInstability_1</th>\n",
       "      <th>GInstability_preds</th>\n",
       "      <th>...</th>\n",
       "      <th>Apoptosis_preds</th>\n",
       "      <th>Proliferation_0</th>\n",
       "      <th>Proliferation_1</th>\n",
       "      <th>Proliferation_preds</th>\n",
       "      <th>Electrophile_0</th>\n",
       "      <th>Electrophile_1</th>\n",
       "      <th>Electrophile_preds</th>\n",
       "      <th>Ensemble_0</th>\n",
       "      <th>Ensemble_1</th>\n",
       "      <th>Ensemble_preds</th>\n",
       "    </tr>\n",
       "  </thead>\n",
       "  <tbody>\n",
       "    <tr>\n",
       "      <th>0</th>\n",
       "      <td>ClCC=C</td>\n",
       "      <td>0.203237</td>\n",
       "      <td>0.796763</td>\n",
       "      <td>1</td>\n",
       "      <td>0.999808</td>\n",
       "      <td>1.919288e-04</td>\n",
       "      <td>0</td>\n",
       "      <td>0.509551</td>\n",
       "      <td>0.490449</td>\n",
       "      <td>0</td>\n",
       "      <td>...</td>\n",
       "      <td>0</td>\n",
       "      <td>0.592451</td>\n",
       "      <td>0.407549</td>\n",
       "      <td>0</td>\n",
       "      <td>0.298295</td>\n",
       "      <td>0.701705</td>\n",
       "      <td>1</td>\n",
       "      <td>0.346927</td>\n",
       "      <td>0.653073</td>\n",
       "      <td>1</td>\n",
       "    </tr>\n",
       "    <tr>\n",
       "      <th>1</th>\n",
       "      <td>C=CCOC(=O)CC(C)C</td>\n",
       "      <td>0.542730</td>\n",
       "      <td>0.457270</td>\n",
       "      <td>0</td>\n",
       "      <td>1.000000</td>\n",
       "      <td>2.634745e-07</td>\n",
       "      <td>0</td>\n",
       "      <td>0.909461</td>\n",
       "      <td>0.090539</td>\n",
       "      <td>0</td>\n",
       "      <td>...</td>\n",
       "      <td>0</td>\n",
       "      <td>0.552350</td>\n",
       "      <td>0.447650</td>\n",
       "      <td>0</td>\n",
       "      <td>0.066306</td>\n",
       "      <td>0.933694</td>\n",
       "      <td>1</td>\n",
       "      <td>0.411490</td>\n",
       "      <td>0.588510</td>\n",
       "      <td>1</td>\n",
       "    </tr>\n",
       "  </tbody>\n",
       "</table>\n",
       "<p>2 rows × 22 columns</p>\n",
       "</div>"
      ],
      "text/plain": [
       "             smiles  Epigenetics_0  Epigenetics_1  Epigenetics_preds  \\\n",
       "0            ClCC=C       0.203237       0.796763                  1   \n",
       "1  C=CCOC(=O)CC(C)C       0.542730       0.457270                  0   \n",
       "\n",
       "   Oxidative_0   Oxidative_1  Oxidative_preds  GInstability_0  GInstability_1  \\\n",
       "0     0.999808  1.919288e-04                0        0.509551        0.490449   \n",
       "1     1.000000  2.634745e-07                0        0.909461        0.090539   \n",
       "\n",
       "   GInstability_preds  ...  Apoptosis_preds  Proliferation_0  Proliferation_1  \\\n",
       "0                   0  ...                0         0.592451         0.407549   \n",
       "1                   0  ...                0         0.552350         0.447650   \n",
       "\n",
       "   Proliferation_preds  Electrophile_0  Electrophile_1  Electrophile_preds  \\\n",
       "0                    0        0.298295        0.701705                   1   \n",
       "1                    0        0.066306        0.933694                   1   \n",
       "\n",
       "   Ensemble_0  Ensemble_1  Ensemble_preds  \n",
       "0    0.346927    0.653073               1  \n",
       "1    0.411490    0.588510               1  \n",
       "\n",
       "[2 rows x 22 columns]"
      ]
     },
     "execution_count": 17,
     "metadata": {},
     "output_type": "execute_result"
    }
   ],
   "source": [
    "Ensemble_mk(['ClCC=C','C=CCOC(=O)CC(C)C'])"
   ]
  },
  {
   "cell_type": "code",
   "execution_count": 19,
   "metadata": {},
   "outputs": [
    {
     "name": "stdout",
     "output_type": "stream",
     "text": [
      "Performing Descriptor calculations\n"
     ]
    },
    {
     "name": "stderr",
     "output_type": "stream",
     "text": [
      "100%|██████████| 5/5 [00:28<00:00,  5.65s/it]\n"
     ]
    },
    {
     "name": "stdout",
     "output_type": "stream",
     "text": [
      "Handlling Missing values\n",
      "Compiling the results !!\n"
     ]
    },
    {
     "data": {
      "image/png": "[encoded data removed]",
      "text/plain": [
       "<Figure size 1080x288 with 1 Axes>"
      ]
     },
     "metadata": {
      "needs_background": "light"
     },
     "output_type": "display_data"
    },
    {
     "data": {
      "image/png": "[encoded data removed]",
      "text/plain": [
       "<Figure size 1080x288 with 1 Axes>"
      ]
     },
     "metadata": {
      "needs_background": "light"
     },
     "output_type": "display_data"
    }
   ],
   "source": [
    "result,explaination = Ensemble_mk(['ClCC=C','C=CCOC(=O)CC(C)C'],explainability=True)"
   ]
  },
  {
   "cell_type": "code",
   "execution_count": null,
   "metadata": {},
   "outputs": [],
   "source": [
    "#save pdf\n",
    "pdf = PdfPages(\"Ensmble-Result.pdf\")\n",
    "for fig in explaination:\n",
    "\tfig.savefig(pdf, format='pdf')\n",
    "pdf.close()"
   ]
  }
 ],
 "metadata": {
  "kernelspec": {
   "display_name": "Python 3",
   "language": "python",
   "name": "python3"
  },
  "language_info": {
   "codemirror_mode": {
    "name": "ipython",
    "version": 3
   },
   "file_extension": ".py",
   "mimetype": "text/x-python",
   "name": "python",
   "nbconvert_exporter": "python",
   "pygments_lexer": "ipython3",
   "version": "3.8.12"
  }
 },
 "nbformat": 4,
 "nbformat_minor": 4
}
